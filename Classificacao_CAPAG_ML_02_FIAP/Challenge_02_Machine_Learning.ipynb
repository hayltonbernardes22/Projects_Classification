{
 "cells": [
  {
   "cell_type": "markdown",
   "metadata": {},
   "source": [
    "# Exercicio 2 de Machine Learning proposto pela Faculdade da Fiap\n",
    "\n",
    "### Desafio seria coletar dois dataset a escolha do aluno, referentes a municipios brasileiros, com o intuito de calcular a Classificação da CAPAG (Capacidade de Pagamento de Municípios) do Municipio."
   ]
  },
  {
   "cell_type": "markdown",
   "metadata": {},
   "source": [
    "## Imports"
   ]
  },
  {
   "cell_type": "code",
   "execution_count": 1,
   "metadata": {},
   "outputs": [],
   "source": [
    "#!conda install -c anaconda py-xgboost\n",
    "#!pip install autokeras"
   ]
  },
  {
   "cell_type": "code",
   "execution_count": 2,
   "metadata": {},
   "outputs": [],
   "source": [
    "import pandas as pd \n",
    "import numpy as np\n",
    "import matplotlib.pyplot as plt\n",
    "import seaborn as sns\n",
    "from sklearn.preprocessing import StandardScaler\n",
    "from sklearn.metrics import mean_absolute_error, mean_squared_error, r2_score\n",
    "from sklearn.ensemble import RandomForestClassifier\n",
    "from sklearn.neighbors import KNeighborsClassifier\n",
    "from sklearn.metrics import confusion_matrix, accuracy_score, recall_score, precision_score, f1_score, classification_report\n",
    "from sklearn.preprocessing import LabelEncoder\n",
    "from sklearn.model_selection import train_test_split \n",
    "from sklearn import preprocessing\n",
    "from sklearn.linear_model import LogisticRegression\n",
    "from xgboost.sklearn import XGBClassifier\n",
    "from sklearn.preprocessing import StandardScaler\n",
    "from sklearn.decomposition import PCA\n",
    "\n",
    "\n",
    "import warnings\n",
    "\n",
    "warnings.filterwarnings('ignore')\n",
    "\n",
    "%matplotlib inline"
   ]
  },
  {
   "cell_type": "markdown",
   "metadata": {},
   "source": [
    "# Análise Descritiva"
   ]
  },
  {
   "cell_type": "markdown",
   "metadata": {},
   "source": [
    "## < Dataframe 1 >\n",
    "### Capacidade de Pagamento de Municípios (CAPAG)\n",
    "> Este conjunto de dados contém as notas de capacidade de pagamento (CAPAG) de todos os municípios, além das notas obtidas por eles em cada um dos três indicadores avaliados."
   ]
  },
  {
   "cell_type": "code",
   "execution_count": 7,
   "metadata": {},
   "outputs": [
    {
     "name": "stdout",
     "output_type": "stream",
     "text": [
      "(5569, 12)\n"
     ]
    },
    {
     "data": {
      "text/html": [
       "<div>\n",
       "<style scoped>\n",
       "    .dataframe tbody tr th:only-of-type {\n",
       "        vertical-align: middle;\n",
       "    }\n",
       "\n",
       "    .dataframe tbody tr th {\n",
       "        vertical-align: top;\n",
       "    }\n",
       "\n",
       "    .dataframe thead th {\n",
       "        text-align: right;\n",
       "    }\n",
       "</style>\n",
       "<table border=\"1\" class=\"dataframe\">\n",
       "  <thead>\n",
       "    <tr style=\"text-align: right;\">\n",
       "      <th></th>\n",
       "      <th>Instituição</th>\n",
       "      <th>Cod.IBGE</th>\n",
       "      <th>UF</th>\n",
       "      <th>População</th>\n",
       "      <th>Indicador_1</th>\n",
       "      <th>Nota_1</th>\n",
       "      <th>Indicador_2</th>\n",
       "      <th>Nota_2</th>\n",
       "      <th>Indicador_3</th>\n",
       "      <th>Nota_3</th>\n",
       "      <th>Classificação da CAPAG</th>\n",
       "      <th>MUNICIPIO</th>\n",
       "    </tr>\n",
       "  </thead>\n",
       "  <tbody>\n",
       "    <tr>\n",
       "      <th>0</th>\n",
       "      <td>Prefeitura Municipal de Abadia de Goiás - GO</td>\n",
       "      <td>5200050</td>\n",
       "      <td>GO</td>\n",
       "      <td>8583.0</td>\n",
       "      <td>0,127976496</td>\n",
       "      <td>A</td>\n",
       "      <td>0,906314496</td>\n",
       "      <td>B</td>\n",
       "      <td>0,962423688</td>\n",
       "      <td>A</td>\n",
       "      <td>B</td>\n",
       "      <td>Abadia de Goiás</td>\n",
       "    </tr>\n",
       "    <tr>\n",
       "      <th>1</th>\n",
       "      <td>Prefeitura Municipal de Abadia dos Dourados - MG</td>\n",
       "      <td>3100104</td>\n",
       "      <td>MG</td>\n",
       "      <td>6972.0</td>\n",
       "      <td>0,165696027</td>\n",
       "      <td>A</td>\n",
       "      <td>0,90987563</td>\n",
       "      <td>B</td>\n",
       "      <td>0,774738727</td>\n",
       "      <td>A</td>\n",
       "      <td>B</td>\n",
       "      <td>Abadia dos Dourados</td>\n",
       "    </tr>\n",
       "    <tr>\n",
       "      <th>2</th>\n",
       "      <td>Prefeitura Municipal de Abadiânia - GO</td>\n",
       "      <td>5200100</td>\n",
       "      <td>GO</td>\n",
       "      <td>19614.0</td>\n",
       "      <td>0,154622885</td>\n",
       "      <td>A</td>\n",
       "      <td>0,959243401</td>\n",
       "      <td>C</td>\n",
       "      <td>1,832419324</td>\n",
       "      <td>C</td>\n",
       "      <td>C</td>\n",
       "      <td>Abadiânia</td>\n",
       "    </tr>\n",
       "    <tr>\n",
       "      <th>3</th>\n",
       "      <td>Prefeitura Municipal de Abaeté - MG</td>\n",
       "      <td>3100203</td>\n",
       "      <td>MG</td>\n",
       "      <td>23223.0</td>\n",
       "      <td>0,310158289</td>\n",
       "      <td>A</td>\n",
       "      <td>0,901489297</td>\n",
       "      <td>B</td>\n",
       "      <td>0,13432183</td>\n",
       "      <td>A</td>\n",
       "      <td>B</td>\n",
       "      <td>Abaeté</td>\n",
       "    </tr>\n",
       "    <tr>\n",
       "      <th>4</th>\n",
       "      <td>Prefeitura Municipal de Abaetetuba - PA</td>\n",
       "      <td>1500107</td>\n",
       "      <td>PA</td>\n",
       "      <td>156292.0</td>\n",
       "      <td>0,031986086</td>\n",
       "      <td>A</td>\n",
       "      <td>0,961195332</td>\n",
       "      <td>C</td>\n",
       "      <td>0,882159646</td>\n",
       "      <td>A</td>\n",
       "      <td>C</td>\n",
       "      <td>Abaetetuba</td>\n",
       "    </tr>\n",
       "  </tbody>\n",
       "</table>\n",
       "</div>"
      ],
      "text/plain": [
       "                                        Instituição  Cod.IBGE  UF  População  \\\n",
       "0      Prefeitura Municipal de Abadia de Goiás - GO   5200050  GO     8583.0   \n",
       "1  Prefeitura Municipal de Abadia dos Dourados - MG   3100104  MG     6972.0   \n",
       "2            Prefeitura Municipal de Abadiânia - GO   5200100  GO    19614.0   \n",
       "3               Prefeitura Municipal de Abaeté - MG   3100203  MG    23223.0   \n",
       "4           Prefeitura Municipal de Abaetetuba - PA   1500107  PA   156292.0   \n",
       "\n",
       "   Indicador_1 Nota_1  Indicador_2 Nota_2  Indicador_3 Nota_3  \\\n",
       "0  0,127976496      A  0,906314496      B  0,962423688      A   \n",
       "1  0,165696027      A   0,90987563      B  0,774738727      A   \n",
       "2  0,154622885      A  0,959243401      C  1,832419324      C   \n",
       "3  0,310158289      A  0,901489297      B   0,13432183      A   \n",
       "4  0,031986086      A  0,961195332      C  0,882159646      A   \n",
       "\n",
       "  Classificação da CAPAG            MUNICIPIO  \n",
       "0                      B      Abadia de Goiás  \n",
       "1                      B  Abadia dos Dourados  \n",
       "2                      C            Abadiânia  \n",
       "3                      B               Abaeté  \n",
       "4                      C           Abaetetuba  "
      ]
     },
     "execution_count": 7,
     "metadata": {},
     "output_type": "execute_result"
    }
   ],
   "source": [
    "# Leitura dos dados CAPAG e criação da coluna 'MUNICIPIO'\n",
    "df_capag = pd.read_csv('CAPAG-Municipios.csv', delimiter = ';')\n",
    "lista_municipio = []\n",
    "for i in df_capag['Instituição']:\n",
    "    lista_municipio.append(str(i)[24:-5])\n",
    "df_capag['MUNICIPIO'] = lista_municipio\n",
    "print(df_capag.shape)\n",
    "df_capag.head()"
   ]
  },
  {
   "cell_type": "code",
   "execution_count": 8,
   "metadata": {
    "scrolled": false
   },
   "outputs": [
    {
     "data": {
      "text/html": [
       "<div>\n",
       "<style scoped>\n",
       "    .dataframe tbody tr th:only-of-type {\n",
       "        vertical-align: middle;\n",
       "    }\n",
       "\n",
       "    .dataframe tbody tr th {\n",
       "        vertical-align: top;\n",
       "    }\n",
       "\n",
       "    .dataframe thead th {\n",
       "        text-align: right;\n",
       "    }\n",
       "</style>\n",
       "<table border=\"1\" class=\"dataframe\">\n",
       "  <thead>\n",
       "    <tr style=\"text-align: right;\">\n",
       "      <th></th>\n",
       "      <th>Instituição</th>\n",
       "      <th>Cod.IBGE</th>\n",
       "      <th>UF</th>\n",
       "      <th>População</th>\n",
       "      <th>Indicador_1</th>\n",
       "      <th>Nota_1</th>\n",
       "      <th>Indicador_2</th>\n",
       "      <th>Nota_2</th>\n",
       "      <th>Indicador_3</th>\n",
       "      <th>Nota_3</th>\n",
       "      <th>Classificação da CAPAG</th>\n",
       "      <th>MUNICIPIO</th>\n",
       "    </tr>\n",
       "  </thead>\n",
       "  <tbody>\n",
       "    <tr>\n",
       "      <th>0</th>\n",
       "      <td>Prefeitura Municipal de Abadia de Goiás - GO</td>\n",
       "      <td>5200050</td>\n",
       "      <td>GO</td>\n",
       "      <td>8583.0</td>\n",
       "      <td>0,127976496</td>\n",
       "      <td>A</td>\n",
       "      <td>0,906314496</td>\n",
       "      <td>B</td>\n",
       "      <td>0,962423688</td>\n",
       "      <td>A</td>\n",
       "      <td>B</td>\n",
       "      <td>Abadia de Goiás</td>\n",
       "    </tr>\n",
       "    <tr>\n",
       "      <th>1</th>\n",
       "      <td>Prefeitura Municipal de Abadia dos Dourados - MG</td>\n",
       "      <td>3100104</td>\n",
       "      <td>MG</td>\n",
       "      <td>6972.0</td>\n",
       "      <td>0,165696027</td>\n",
       "      <td>A</td>\n",
       "      <td>0,90987563</td>\n",
       "      <td>B</td>\n",
       "      <td>0,774738727</td>\n",
       "      <td>A</td>\n",
       "      <td>B</td>\n",
       "      <td>Abadia dos Dourados</td>\n",
       "    </tr>\n",
       "    <tr>\n",
       "      <th>2</th>\n",
       "      <td>Prefeitura Municipal de Abadiânia - GO</td>\n",
       "      <td>5200100</td>\n",
       "      <td>GO</td>\n",
       "      <td>19614.0</td>\n",
       "      <td>0,154622885</td>\n",
       "      <td>A</td>\n",
       "      <td>0,959243401</td>\n",
       "      <td>C</td>\n",
       "      <td>1,832419324</td>\n",
       "      <td>C</td>\n",
       "      <td>C</td>\n",
       "      <td>Abadiânia</td>\n",
       "    </tr>\n",
       "    <tr>\n",
       "      <th>3</th>\n",
       "      <td>Prefeitura Municipal de Abaeté - MG</td>\n",
       "      <td>3100203</td>\n",
       "      <td>MG</td>\n",
       "      <td>23223.0</td>\n",
       "      <td>0,310158289</td>\n",
       "      <td>A</td>\n",
       "      <td>0,901489297</td>\n",
       "      <td>B</td>\n",
       "      <td>0,13432183</td>\n",
       "      <td>A</td>\n",
       "      <td>B</td>\n",
       "      <td>Abaeté</td>\n",
       "    </tr>\n",
       "    <tr>\n",
       "      <th>4</th>\n",
       "      <td>Prefeitura Municipal de Abaetetuba - PA</td>\n",
       "      <td>1500107</td>\n",
       "      <td>PA</td>\n",
       "      <td>156292.0</td>\n",
       "      <td>0,031986086</td>\n",
       "      <td>A</td>\n",
       "      <td>0,961195332</td>\n",
       "      <td>C</td>\n",
       "      <td>0,882159646</td>\n",
       "      <td>A</td>\n",
       "      <td>C</td>\n",
       "      <td>Abaetetuba</td>\n",
       "    </tr>\n",
       "  </tbody>\n",
       "</table>\n",
       "</div>"
      ],
      "text/plain": [
       "                                        Instituição  Cod.IBGE  UF  População  \\\n",
       "0      Prefeitura Municipal de Abadia de Goiás - GO   5200050  GO     8583.0   \n",
       "1  Prefeitura Municipal de Abadia dos Dourados - MG   3100104  MG     6972.0   \n",
       "2            Prefeitura Municipal de Abadiânia - GO   5200100  GO    19614.0   \n",
       "3               Prefeitura Municipal de Abaeté - MG   3100203  MG    23223.0   \n",
       "4           Prefeitura Municipal de Abaetetuba - PA   1500107  PA   156292.0   \n",
       "\n",
       "   Indicador_1 Nota_1  Indicador_2 Nota_2  Indicador_3 Nota_3  \\\n",
       "0  0,127976496      A  0,906314496      B  0,962423688      A   \n",
       "1  0,165696027      A   0,90987563      B  0,774738727      A   \n",
       "2  0,154622885      A  0,959243401      C  1,832419324      C   \n",
       "3  0,310158289      A  0,901489297      B   0,13432183      A   \n",
       "4  0,031986086      A  0,961195332      C  0,882159646      A   \n",
       "\n",
       "  Classificação da CAPAG            MUNICIPIO  \n",
       "0                      B      Abadia de Goiás  \n",
       "1                      B  Abadia dos Dourados  \n",
       "2                      C            Abadiânia  \n",
       "3                      B               Abaeté  \n",
       "4                      C           Abaetetuba  "
      ]
     },
     "execution_count": 8,
     "metadata": {},
     "output_type": "execute_result"
    }
   ],
   "source": [
    "df_capag = df_capag[df_capag['Classificação da CAPAG'] != 'n.d.']\n",
    "df_capag.head()"
   ]
  },
  {
   "cell_type": "code",
   "execution_count": 9,
   "metadata": {},
   "outputs": [
    {
     "name": "stdout",
     "output_type": "stream",
     "text": [
      "<class 'pandas.core.frame.DataFrame'>\n",
      "Int64Index: 3974 entries, 0 to 5566\n",
      "Data columns (total 12 columns):\n",
      " #   Column                  Non-Null Count  Dtype  \n",
      "---  ------                  --------------  -----  \n",
      " 0   Instituição             3974 non-null   object \n",
      " 1   Cod.IBGE                3974 non-null   int64  \n",
      " 2   UF                      3974 non-null   object \n",
      " 3   População               3974 non-null   float64\n",
      " 4   Indicador_1             3974 non-null   object \n",
      " 5   Nota_1                  3974 non-null   object \n",
      " 6   Indicador_2             3974 non-null   object \n",
      " 7   Nota_2                  3974 non-null   object \n",
      " 8   Indicador_3             3974 non-null   object \n",
      " 9   Nota_3                  3974 non-null   object \n",
      " 10  Classificação da CAPAG  3974 non-null   object \n",
      " 11  MUNICIPIO               3974 non-null   object \n",
      "dtypes: float64(1), int64(1), object(10)\n",
      "memory usage: 403.6+ KB\n"
     ]
    }
   ],
   "source": [
    "df_capag.info()"
   ]
  },
  {
   "cell_type": "code",
   "execution_count": 10,
   "metadata": {},
   "outputs": [
    {
     "data": {
      "text/html": [
       "<div>\n",
       "<style scoped>\n",
       "    .dataframe tbody tr th:only-of-type {\n",
       "        vertical-align: middle;\n",
       "    }\n",
       "\n",
       "    .dataframe tbody tr th {\n",
       "        vertical-align: top;\n",
       "    }\n",
       "\n",
       "    .dataframe thead th {\n",
       "        text-align: right;\n",
       "    }\n",
       "</style>\n",
       "<table border=\"1\" class=\"dataframe\">\n",
       "  <thead>\n",
       "    <tr style=\"text-align: right;\">\n",
       "      <th></th>\n",
       "      <th>Instituição</th>\n",
       "      <th>Cod.IBGE</th>\n",
       "      <th>UF</th>\n",
       "      <th>População</th>\n",
       "      <th>Indicador_1</th>\n",
       "      <th>Nota_1</th>\n",
       "      <th>Indicador_2</th>\n",
       "      <th>Nota_2</th>\n",
       "      <th>Indicador_3</th>\n",
       "      <th>Nota_3</th>\n",
       "      <th>Classificação da CAPAG</th>\n",
       "      <th>MUNICIPIO</th>\n",
       "    </tr>\n",
       "  </thead>\n",
       "  <tbody>\n",
       "    <tr>\n",
       "      <th>count</th>\n",
       "      <td>3974</td>\n",
       "      <td>3.974000e+03</td>\n",
       "      <td>3974</td>\n",
       "      <td>3.974000e+03</td>\n",
       "      <td>3974</td>\n",
       "      <td>3974</td>\n",
       "      <td>3974</td>\n",
       "      <td>3974</td>\n",
       "      <td>3974</td>\n",
       "      <td>3974</td>\n",
       "      <td>3974</td>\n",
       "      <td>3974</td>\n",
       "    </tr>\n",
       "    <tr>\n",
       "      <th>unique</th>\n",
       "      <td>3974</td>\n",
       "      <td>NaN</td>\n",
       "      <td>26</td>\n",
       "      <td>NaN</td>\n",
       "      <td>3974</td>\n",
       "      <td>3</td>\n",
       "      <td>3972</td>\n",
       "      <td>3</td>\n",
       "      <td>3968</td>\n",
       "      <td>2</td>\n",
       "      <td>4</td>\n",
       "      <td>3838</td>\n",
       "    </tr>\n",
       "    <tr>\n",
       "      <th>top</th>\n",
       "      <td>Prefeitura Municipal de Ipeúna - SP</td>\n",
       "      <td>NaN</td>\n",
       "      <td>MG</td>\n",
       "      <td>NaN</td>\n",
       "      <td>0,037504416</td>\n",
       "      <td>A</td>\n",
       "      <td>#NÚM!</td>\n",
       "      <td>C</td>\n",
       "      <td>1</td>\n",
       "      <td>A</td>\n",
       "      <td>C</td>\n",
       "      <td>São Domingos</td>\n",
       "    </tr>\n",
       "    <tr>\n",
       "      <th>freq</th>\n",
       "      <td>1</td>\n",
       "      <td>NaN</td>\n",
       "      <td>663</td>\n",
       "      <td>NaN</td>\n",
       "      <td>1</td>\n",
       "      <td>3709</td>\n",
       "      <td>3</td>\n",
       "      <td>1679</td>\n",
       "      <td>6</td>\n",
       "      <td>2272</td>\n",
       "      <td>2402</td>\n",
       "      <td>4</td>\n",
       "    </tr>\n",
       "    <tr>\n",
       "      <th>mean</th>\n",
       "      <td>NaN</td>\n",
       "      <td>3.340702e+06</td>\n",
       "      <td>NaN</td>\n",
       "      <td>4.418903e+04</td>\n",
       "      <td>NaN</td>\n",
       "      <td>NaN</td>\n",
       "      <td>NaN</td>\n",
       "      <td>NaN</td>\n",
       "      <td>NaN</td>\n",
       "      <td>NaN</td>\n",
       "      <td>NaN</td>\n",
       "      <td>NaN</td>\n",
       "    </tr>\n",
       "    <tr>\n",
       "      <th>std</th>\n",
       "      <td>NaN</td>\n",
       "      <td>9.431646e+05</td>\n",
       "      <td>NaN</td>\n",
       "      <td>2.546367e+05</td>\n",
       "      <td>NaN</td>\n",
       "      <td>NaN</td>\n",
       "      <td>NaN</td>\n",
       "      <td>NaN</td>\n",
       "      <td>NaN</td>\n",
       "      <td>NaN</td>\n",
       "      <td>NaN</td>\n",
       "      <td>NaN</td>\n",
       "    </tr>\n",
       "    <tr>\n",
       "      <th>min</th>\n",
       "      <td>NaN</td>\n",
       "      <td>1.100023e+06</td>\n",
       "      <td>NaN</td>\n",
       "      <td>1.088000e+03</td>\n",
       "      <td>NaN</td>\n",
       "      <td>NaN</td>\n",
       "      <td>NaN</td>\n",
       "      <td>NaN</td>\n",
       "      <td>NaN</td>\n",
       "      <td>NaN</td>\n",
       "      <td>NaN</td>\n",
       "      <td>NaN</td>\n",
       "    </tr>\n",
       "    <tr>\n",
       "      <th>25%</th>\n",
       "      <td>NaN</td>\n",
       "      <td>2.702318e+06</td>\n",
       "      <td>NaN</td>\n",
       "      <td>5.839750e+03</td>\n",
       "      <td>NaN</td>\n",
       "      <td>NaN</td>\n",
       "      <td>NaN</td>\n",
       "      <td>NaN</td>\n",
       "      <td>NaN</td>\n",
       "      <td>NaN</td>\n",
       "      <td>NaN</td>\n",
       "      <td>NaN</td>\n",
       "    </tr>\n",
       "    <tr>\n",
       "      <th>50%</th>\n",
       "      <td>NaN</td>\n",
       "      <td>3.163052e+06</td>\n",
       "      <td>NaN</td>\n",
       "      <td>1.243250e+04</td>\n",
       "      <td>NaN</td>\n",
       "      <td>NaN</td>\n",
       "      <td>NaN</td>\n",
       "      <td>NaN</td>\n",
       "      <td>NaN</td>\n",
       "      <td>NaN</td>\n",
       "      <td>NaN</td>\n",
       "      <td>NaN</td>\n",
       "    </tr>\n",
       "    <tr>\n",
       "      <th>75%</th>\n",
       "      <td>NaN</td>\n",
       "      <td>4.122194e+06</td>\n",
       "      <td>NaN</td>\n",
       "      <td>2.797225e+04</td>\n",
       "      <td>NaN</td>\n",
       "      <td>NaN</td>\n",
       "      <td>NaN</td>\n",
       "      <td>NaN</td>\n",
       "      <td>NaN</td>\n",
       "      <td>NaN</td>\n",
       "      <td>NaN</td>\n",
       "      <td>NaN</td>\n",
       "    </tr>\n",
       "    <tr>\n",
       "      <th>max</th>\n",
       "      <td>NaN</td>\n",
       "      <td>5.222302e+06</td>\n",
       "      <td>NaN</td>\n",
       "      <td>1.217687e+07</td>\n",
       "      <td>NaN</td>\n",
       "      <td>NaN</td>\n",
       "      <td>NaN</td>\n",
       "      <td>NaN</td>\n",
       "      <td>NaN</td>\n",
       "      <td>NaN</td>\n",
       "      <td>NaN</td>\n",
       "      <td>NaN</td>\n",
       "    </tr>\n",
       "  </tbody>\n",
       "</table>\n",
       "</div>"
      ],
      "text/plain": [
       "                                Instituição      Cod.IBGE    UF     População  \\\n",
       "count                                  3974  3.974000e+03  3974  3.974000e+03   \n",
       "unique                                 3974           NaN    26           NaN   \n",
       "top     Prefeitura Municipal de Ipeúna - SP           NaN    MG           NaN   \n",
       "freq                                      1           NaN   663           NaN   \n",
       "mean                                    NaN  3.340702e+06   NaN  4.418903e+04   \n",
       "std                                     NaN  9.431646e+05   NaN  2.546367e+05   \n",
       "min                                     NaN  1.100023e+06   NaN  1.088000e+03   \n",
       "25%                                     NaN  2.702318e+06   NaN  5.839750e+03   \n",
       "50%                                     NaN  3.163052e+06   NaN  1.243250e+04   \n",
       "75%                                     NaN  4.122194e+06   NaN  2.797225e+04   \n",
       "max                                     NaN  5.222302e+06   NaN  1.217687e+07   \n",
       "\n",
       "        Indicador_1 Nota_1 Indicador_2 Nota_2 Indicador_3 Nota_3  \\\n",
       "count          3974   3974        3974   3974        3974   3974   \n",
       "unique         3974      3        3972      3        3968      2   \n",
       "top     0,037504416      A       #NÚM!      C           1      A   \n",
       "freq              1   3709           3   1679           6   2272   \n",
       "mean            NaN    NaN         NaN    NaN         NaN    NaN   \n",
       "std             NaN    NaN         NaN    NaN         NaN    NaN   \n",
       "min             NaN    NaN         NaN    NaN         NaN    NaN   \n",
       "25%             NaN    NaN         NaN    NaN         NaN    NaN   \n",
       "50%             NaN    NaN         NaN    NaN         NaN    NaN   \n",
       "75%             NaN    NaN         NaN    NaN         NaN    NaN   \n",
       "max             NaN    NaN         NaN    NaN         NaN    NaN   \n",
       "\n",
       "       Classificação da CAPAG     MUNICIPIO  \n",
       "count                    3974          3974  \n",
       "unique                      4          3838  \n",
       "top                         C  São Domingos  \n",
       "freq                     2402             4  \n",
       "mean                      NaN           NaN  \n",
       "std                       NaN           NaN  \n",
       "min                       NaN           NaN  \n",
       "25%                       NaN           NaN  \n",
       "50%                       NaN           NaN  \n",
       "75%                       NaN           NaN  \n",
       "max                       NaN           NaN  "
      ]
     },
     "execution_count": 10,
     "metadata": {},
     "output_type": "execute_result"
    }
   ],
   "source": [
    "df_capag.describe(include = 'all')"
   ]
  },
  {
   "cell_type": "code",
   "execution_count": 11,
   "metadata": {},
   "outputs": [
    {
     "name": "stdout",
     "output_type": "stream",
     "text": [
      "Instituição               0\n",
      "Cod.IBGE                  0\n",
      "UF                        0\n",
      "População                 0\n",
      "Indicador_1               0\n",
      "Nota_1                    0\n",
      "Indicador_2               0\n",
      "Nota_2                    0\n",
      "Indicador_3               0\n",
      "Nota_3                    0\n",
      "Classificação da CAPAG    0\n",
      "MUNICIPIO                 0\n",
      "dtype: int64\n"
     ]
    }
   ],
   "source": [
    "print(pd.isnull(df_capag).sum())"
   ]
  },
  {
   "cell_type": "markdown",
   "metadata": {},
   "source": [
    "## < Dataframe 2 > \n",
    "### Categorização dos Municípios Turísticos\n",
    "   >  Categorização é um instrumento elaborado pelo Ministério do Turismo para identificar o desempenho da economia do setor nos municípios que constam no Mapa do Turismo Brasileiro. Devido à quantidade de municípios inseridos nas 291 regiões turísticas do Mapa do Turismo Brasileiro (2.175), foram utilizados dados que pudessem ser atualizados periodicamente e que traduzissem a economia do turismo. A partir daí se chegou a quatro variáveis que foram cruzadas em uma análise de cluster e deram origem a cinco categorias de municípios (A, B, C, D e E)."
   ]
  },
  {
   "cell_type": "code",
   "execution_count": 3,
   "metadata": {},
   "outputs": [
    {
     "name": "stdout",
     "output_type": "stream",
     "text": [
      "(2694, 11)\n"
     ]
    },
    {
     "data": {
      "text/html": [
       "<div>\n",
       "<style scoped>\n",
       "    .dataframe tbody tr th:only-of-type {\n",
       "        vertical-align: middle;\n",
       "    }\n",
       "\n",
       "    .dataframe tbody tr th {\n",
       "        vertical-align: top;\n",
       "    }\n",
       "\n",
       "    .dataframe thead th {\n",
       "        text-align: right;\n",
       "    }\n",
       "</style>\n",
       "<table border=\"1\" class=\"dataframe\">\n",
       "  <thead>\n",
       "    <tr style=\"text-align: right;\">\n",
       "      <th></th>\n",
       "      <th>MACRO</th>\n",
       "      <th>UF</th>\n",
       "      <th>REGIAO_TURISTICA</th>\n",
       "      <th>MUNICIPIO</th>\n",
       "      <th>COD_IBGE</th>\n",
       "      <th>QUANTIDADE_EMPREGOS</th>\n",
       "      <th>QUANTIDADE_ ESTABELECIMENTOS</th>\n",
       "      <th>QUANTIDADE_VISITAS_ESTIMADAS_ INTERNACIONAL</th>\n",
       "      <th>QUANTIDADE_VISITAS_ESTIMADAS_ NACIONAL</th>\n",
       "      <th>ARRECADACAO</th>\n",
       "      <th>CLUSTER</th>\n",
       "    </tr>\n",
       "  </thead>\n",
       "  <tbody>\n",
       "    <tr>\n",
       "      <th>0</th>\n",
       "      <td>Centro-Oeste</td>\n",
       "      <td>MT</td>\n",
       "      <td>Região Turística Portal do Agronegócio</td>\n",
       "      <td>Nova Mutum</td>\n",
       "      <td>5106224</td>\n",
       "      <td>89</td>\n",
       "      <td>14</td>\n",
       "      <td>0</td>\n",
       "      <td>15309</td>\n",
       "      <td>708887</td>\n",
       "      <td>C</td>\n",
       "    </tr>\n",
       "    <tr>\n",
       "      <th>1</th>\n",
       "      <td>Nordeste</td>\n",
       "      <td>MA</td>\n",
       "      <td>Polo Lagos e Campos Floridos</td>\n",
       "      <td>Cajapió</td>\n",
       "      <td>2102408</td>\n",
       "      <td>0</td>\n",
       "      <td>0</td>\n",
       "      <td>0</td>\n",
       "      <td>1376</td>\n",
       "      <td>0</td>\n",
       "      <td>D</td>\n",
       "    </tr>\n",
       "    <tr>\n",
       "      <th>2</th>\n",
       "      <td>Sudeste</td>\n",
       "      <td>MG</td>\n",
       "      <td>Caminhos da Mantiqueira</td>\n",
       "      <td>Brazópolis</td>\n",
       "      <td>3108909</td>\n",
       "      <td>6</td>\n",
       "      <td>3</td>\n",
       "      <td>0</td>\n",
       "      <td>25587</td>\n",
       "      <td>0</td>\n",
       "      <td>D</td>\n",
       "    </tr>\n",
       "    <tr>\n",
       "      <th>3</th>\n",
       "      <td>Sudeste</td>\n",
       "      <td>MG</td>\n",
       "      <td>Ouro</td>\n",
       "      <td>Caeté</td>\n",
       "      <td>3110004</td>\n",
       "      <td>310</td>\n",
       "      <td>11</td>\n",
       "      <td>0</td>\n",
       "      <td>23757</td>\n",
       "      <td>4944942</td>\n",
       "      <td>B</td>\n",
       "    </tr>\n",
       "    <tr>\n",
       "      <th>4</th>\n",
       "      <td>Sudeste</td>\n",
       "      <td>MG</td>\n",
       "      <td>Pedras Preciosas</td>\n",
       "      <td>Catuji</td>\n",
       "      <td>3115458</td>\n",
       "      <td>0</td>\n",
       "      <td>0</td>\n",
       "      <td>149</td>\n",
       "      <td>0</td>\n",
       "      <td>0</td>\n",
       "      <td>D</td>\n",
       "    </tr>\n",
       "  </tbody>\n",
       "</table>\n",
       "</div>"
      ],
      "text/plain": [
       "          MACRO  UF                        REGIAO_TURISTICA   MUNICIPIO  \\\n",
       "0  Centro-Oeste  MT  Região Turística Portal do Agronegócio  Nova Mutum   \n",
       "1      Nordeste  MA            Polo Lagos e Campos Floridos     Cajapió   \n",
       "2       Sudeste  MG                 Caminhos da Mantiqueira  Brazópolis   \n",
       "3       Sudeste  MG                                    Ouro       Caeté   \n",
       "4       Sudeste  MG                        Pedras Preciosas      Catuji   \n",
       "\n",
       "   COD_IBGE  QUANTIDADE_EMPREGOS  QUANTIDADE_ ESTABELECIMENTOS  \\\n",
       "0   5106224                   89                            14   \n",
       "1   2102408                    0                             0   \n",
       "2   3108909                    6                             3   \n",
       "3   3110004                  310                            11   \n",
       "4   3115458                    0                             0   \n",
       "\n",
       "   QUANTIDADE_VISITAS_ESTIMADAS_ INTERNACIONAL  \\\n",
       "0                                            0   \n",
       "1                                            0   \n",
       "2                                            0   \n",
       "3                                            0   \n",
       "4                                          149   \n",
       "\n",
       "   QUANTIDADE_VISITAS_ESTIMADAS_ NACIONAL  ARRECADACAO CLUSTER  \n",
       "0                                   15309       708887       C  \n",
       "1                                    1376            0       D  \n",
       "2                                   25587            0       D  \n",
       "3                                   23757      4944942       B  \n",
       "4                                       0            0       D  "
      ]
     },
     "execution_count": 3,
     "metadata": {},
     "output_type": "execute_result"
    }
   ],
   "source": [
    "# Leitura dos dados Categorização\n",
    "df_categ = pd.read_excel('RELATORIO_CATEGORIZACAO_2019-Portal.xls')\n",
    "print(df_categ.shape)\n",
    "df_categ.head()"
   ]
  },
  {
   "cell_type": "code",
   "execution_count": 4,
   "metadata": {},
   "outputs": [
    {
     "name": "stdout",
     "output_type": "stream",
     "text": [
      "<class 'pandas.core.frame.DataFrame'>\n",
      "RangeIndex: 2694 entries, 0 to 2693\n",
      "Data columns (total 11 columns):\n",
      " #   Column                                       Non-Null Count  Dtype \n",
      "---  ------                                       --------------  ----- \n",
      " 0   MACRO                                        2694 non-null   object\n",
      " 1   UF                                           2694 non-null   object\n",
      " 2   REGIAO_TURISTICA                             2694 non-null   object\n",
      " 3   MUNICIPIO                                    2694 non-null   object\n",
      " 4   COD_IBGE                                     2694 non-null   int64 \n",
      " 5   QUANTIDADE_EMPREGOS                          2694 non-null   int64 \n",
      " 6   QUANTIDADE_ ESTABELECIMENTOS                 2694 non-null   int64 \n",
      " 7   QUANTIDADE_VISITAS_ESTIMADAS_ INTERNACIONAL  2694 non-null   int64 \n",
      " 8   QUANTIDADE_VISITAS_ESTIMADAS_ NACIONAL       2694 non-null   int64 \n",
      " 9   ARRECADACAO                                  2694 non-null   int64 \n",
      " 10  CLUSTER                                      2694 non-null   object\n",
      "dtypes: int64(6), object(5)\n",
      "memory usage: 231.6+ KB\n"
     ]
    }
   ],
   "source": [
    "df_categ.info()"
   ]
  },
  {
   "cell_type": "code",
   "execution_count": 5,
   "metadata": {},
   "outputs": [
    {
     "data": {
      "text/html": [
       "<div>\n",
       "<style scoped>\n",
       "    .dataframe tbody tr th:only-of-type {\n",
       "        vertical-align: middle;\n",
       "    }\n",
       "\n",
       "    .dataframe tbody tr th {\n",
       "        vertical-align: top;\n",
       "    }\n",
       "\n",
       "    .dataframe thead th {\n",
       "        text-align: right;\n",
       "    }\n",
       "</style>\n",
       "<table border=\"1\" class=\"dataframe\">\n",
       "  <thead>\n",
       "    <tr style=\"text-align: right;\">\n",
       "      <th></th>\n",
       "      <th>COD_IBGE</th>\n",
       "      <th>QUANTIDADE_EMPREGOS</th>\n",
       "      <th>QUANTIDADE_ ESTABELECIMENTOS</th>\n",
       "      <th>QUANTIDADE_VISITAS_ESTIMADAS_ INTERNACIONAL</th>\n",
       "      <th>QUANTIDADE_VISITAS_ESTIMADAS_ NACIONAL</th>\n",
       "      <th>ARRECADACAO</th>\n",
       "    </tr>\n",
       "  </thead>\n",
       "  <tbody>\n",
       "    <tr>\n",
       "      <th>count</th>\n",
       "      <td>2.694000e+03</td>\n",
       "      <td>2694.000000</td>\n",
       "      <td>2694.000000</td>\n",
       "      <td>2.694000e+03</td>\n",
       "      <td>2.694000e+03</td>\n",
       "      <td>2.694000e+03</td>\n",
       "    </tr>\n",
       "    <tr>\n",
       "      <th>mean</th>\n",
       "      <td>3.405169e+06</td>\n",
       "      <td>93.380475</td>\n",
       "      <td>7.516333</td>\n",
       "      <td>3.850519e+03</td>\n",
       "      <td>6.383554e+04</td>\n",
       "      <td>1.238121e+06</td>\n",
       "    </tr>\n",
       "    <tr>\n",
       "      <th>std</th>\n",
       "      <td>9.310852e+05</td>\n",
       "      <td>555.239839</td>\n",
       "      <td>26.203060</td>\n",
       "      <td>4.667117e+04</td>\n",
       "      <td>3.930170e+05</td>\n",
       "      <td>1.310179e+07</td>\n",
       "    </tr>\n",
       "    <tr>\n",
       "      <th>min</th>\n",
       "      <td>1.100015e+06</td>\n",
       "      <td>0.000000</td>\n",
       "      <td>0.000000</td>\n",
       "      <td>0.000000e+00</td>\n",
       "      <td>0.000000e+00</td>\n",
       "      <td>0.000000e+00</td>\n",
       "    </tr>\n",
       "    <tr>\n",
       "      <th>25%</th>\n",
       "      <td>2.905852e+06</td>\n",
       "      <td>0.000000</td>\n",
       "      <td>0.000000</td>\n",
       "      <td>0.000000e+00</td>\n",
       "      <td>0.000000e+00</td>\n",
       "      <td>0.000000e+00</td>\n",
       "    </tr>\n",
       "    <tr>\n",
       "      <th>50%</th>\n",
       "      <td>3.302650e+06</td>\n",
       "      <td>6.000000</td>\n",
       "      <td>2.000000</td>\n",
       "      <td>3.800000e+01</td>\n",
       "      <td>5.376500e+03</td>\n",
       "      <td>0.000000e+00</td>\n",
       "    </tr>\n",
       "    <tr>\n",
       "      <th>75%</th>\n",
       "      <td>4.205982e+06</td>\n",
       "      <td>35.000000</td>\n",
       "      <td>6.000000</td>\n",
       "      <td>3.730000e+02</td>\n",
       "      <td>2.789175e+04</td>\n",
       "      <td>0.000000e+00</td>\n",
       "    </tr>\n",
       "    <tr>\n",
       "      <th>max</th>\n",
       "      <td>5.300108e+06</td>\n",
       "      <td>17946.000000</td>\n",
       "      <td>785.000000</td>\n",
       "      <td>1.651696e+06</td>\n",
       "      <td>1.347863e+07</td>\n",
       "      <td>4.733092e+08</td>\n",
       "    </tr>\n",
       "  </tbody>\n",
       "</table>\n",
       "</div>"
      ],
      "text/plain": [
       "           COD_IBGE  QUANTIDADE_EMPREGOS  QUANTIDADE_ ESTABELECIMENTOS  \\\n",
       "count  2.694000e+03          2694.000000                   2694.000000   \n",
       "mean   3.405169e+06            93.380475                      7.516333   \n",
       "std    9.310852e+05           555.239839                     26.203060   \n",
       "min    1.100015e+06             0.000000                      0.000000   \n",
       "25%    2.905852e+06             0.000000                      0.000000   \n",
       "50%    3.302650e+06             6.000000                      2.000000   \n",
       "75%    4.205982e+06            35.000000                      6.000000   \n",
       "max    5.300108e+06         17946.000000                    785.000000   \n",
       "\n",
       "       QUANTIDADE_VISITAS_ESTIMADAS_ INTERNACIONAL  \\\n",
       "count                                 2.694000e+03   \n",
       "mean                                  3.850519e+03   \n",
       "std                                   4.667117e+04   \n",
       "min                                   0.000000e+00   \n",
       "25%                                   0.000000e+00   \n",
       "50%                                   3.800000e+01   \n",
       "75%                                   3.730000e+02   \n",
       "max                                   1.651696e+06   \n",
       "\n",
       "       QUANTIDADE_VISITAS_ESTIMADAS_ NACIONAL   ARRECADACAO  \n",
       "count                            2.694000e+03  2.694000e+03  \n",
       "mean                             6.383554e+04  1.238121e+06  \n",
       "std                              3.930170e+05  1.310179e+07  \n",
       "min                              0.000000e+00  0.000000e+00  \n",
       "25%                              0.000000e+00  0.000000e+00  \n",
       "50%                              5.376500e+03  0.000000e+00  \n",
       "75%                              2.789175e+04  0.000000e+00  \n",
       "max                              1.347863e+07  4.733092e+08  "
      ]
     },
     "execution_count": 5,
     "metadata": {},
     "output_type": "execute_result"
    }
   ],
   "source": [
    "df_categ.describe()"
   ]
  },
  {
   "cell_type": "code",
   "execution_count": 6,
   "metadata": {},
   "outputs": [
    {
     "name": "stdout",
     "output_type": "stream",
     "text": [
      "MACRO                                          0\n",
      "UF                                             0\n",
      "REGIAO_TURISTICA                               0\n",
      "MUNICIPIO                                      0\n",
      "COD_IBGE                                       0\n",
      "QUANTIDADE_EMPREGOS                            0\n",
      "QUANTIDADE_ ESTABELECIMENTOS                   0\n",
      "QUANTIDADE_VISITAS_ESTIMADAS_ INTERNACIONAL    0\n",
      "QUANTIDADE_VISITAS_ESTIMADAS_ NACIONAL         0\n",
      "ARRECADACAO                                    0\n",
      "CLUSTER                                        0\n",
      "dtype: int64\n"
     ]
    }
   ],
   "source": [
    "print(pd.isnull(df_categ).sum())"
   ]
  },
  {
   "cell_type": "markdown",
   "metadata": {},
   "source": [
    "# Integrando os Dataframes"
   ]
  },
  {
   "cell_type": "code",
   "execution_count": 12,
   "metadata": {
    "scrolled": false
   },
   "outputs": [
    {
     "name": "stdout",
     "output_type": "stream",
     "text": [
      "(3974, 21)\n"
     ]
    },
    {
     "data": {
      "text/html": [
       "<div>\n",
       "<style scoped>\n",
       "    .dataframe tbody tr th:only-of-type {\n",
       "        vertical-align: middle;\n",
       "    }\n",
       "\n",
       "    .dataframe tbody tr th {\n",
       "        vertical-align: top;\n",
       "    }\n",
       "\n",
       "    .dataframe thead th {\n",
       "        text-align: right;\n",
       "    }\n",
       "</style>\n",
       "<table border=\"1\" class=\"dataframe\">\n",
       "  <thead>\n",
       "    <tr style=\"text-align: right;\">\n",
       "      <th></th>\n",
       "      <th>Instituição</th>\n",
       "      <th>Cod.IBGE</th>\n",
       "      <th>UF</th>\n",
       "      <th>População</th>\n",
       "      <th>Indicador_1</th>\n",
       "      <th>Nota_1</th>\n",
       "      <th>Indicador_2</th>\n",
       "      <th>Nota_2</th>\n",
       "      <th>Indicador_3</th>\n",
       "      <th>Nota_3</th>\n",
       "      <th>...</th>\n",
       "      <th>MUNICIPIO</th>\n",
       "      <th>MACRO</th>\n",
       "      <th>REGIAO_TURISTICA</th>\n",
       "      <th>COD_IBGE</th>\n",
       "      <th>QUANTIDADE_EMPREGOS</th>\n",
       "      <th>QUANTIDADE_ ESTABELECIMENTOS</th>\n",
       "      <th>QUANTIDADE_VISITAS_ESTIMADAS_ INTERNACIONAL</th>\n",
       "      <th>QUANTIDADE_VISITAS_ESTIMADAS_ NACIONAL</th>\n",
       "      <th>ARRECADACAO</th>\n",
       "      <th>CLUSTER</th>\n",
       "    </tr>\n",
       "  </thead>\n",
       "  <tbody>\n",
       "    <tr>\n",
       "      <th>0</th>\n",
       "      <td>Prefeitura Municipal de Abadia de Goiás - GO</td>\n",
       "      <td>5200050</td>\n",
       "      <td>GO</td>\n",
       "      <td>8583.0</td>\n",
       "      <td>0,127976496</td>\n",
       "      <td>A</td>\n",
       "      <td>0,906314496</td>\n",
       "      <td>B</td>\n",
       "      <td>0,962423688</td>\n",
       "      <td>A</td>\n",
       "      <td>...</td>\n",
       "      <td>Abadia de Goiás</td>\n",
       "      <td>NaN</td>\n",
       "      <td>NaN</td>\n",
       "      <td>NaN</td>\n",
       "      <td>NaN</td>\n",
       "      <td>NaN</td>\n",
       "      <td>NaN</td>\n",
       "      <td>NaN</td>\n",
       "      <td>NaN</td>\n",
       "      <td>NaN</td>\n",
       "    </tr>\n",
       "    <tr>\n",
       "      <th>1</th>\n",
       "      <td>Prefeitura Municipal de Abadia dos Dourados - MG</td>\n",
       "      <td>3100104</td>\n",
       "      <td>MG</td>\n",
       "      <td>6972.0</td>\n",
       "      <td>0,165696027</td>\n",
       "      <td>A</td>\n",
       "      <td>0,90987563</td>\n",
       "      <td>B</td>\n",
       "      <td>0,774738727</td>\n",
       "      <td>A</td>\n",
       "      <td>...</td>\n",
       "      <td>Abadia dos Dourados</td>\n",
       "      <td>NaN</td>\n",
       "      <td>NaN</td>\n",
       "      <td>NaN</td>\n",
       "      <td>NaN</td>\n",
       "      <td>NaN</td>\n",
       "      <td>NaN</td>\n",
       "      <td>NaN</td>\n",
       "      <td>NaN</td>\n",
       "      <td>NaN</td>\n",
       "    </tr>\n",
       "    <tr>\n",
       "      <th>2</th>\n",
       "      <td>Prefeitura Municipal de Abadiânia - GO</td>\n",
       "      <td>5200100</td>\n",
       "      <td>GO</td>\n",
       "      <td>19614.0</td>\n",
       "      <td>0,154622885</td>\n",
       "      <td>A</td>\n",
       "      <td>0,959243401</td>\n",
       "      <td>C</td>\n",
       "      <td>1,832419324</td>\n",
       "      <td>C</td>\n",
       "      <td>...</td>\n",
       "      <td>Abadiânia</td>\n",
       "      <td>Centro-Oeste</td>\n",
       "      <td>Região Turística do Ouro e Cristais</td>\n",
       "      <td>5200100.0</td>\n",
       "      <td>157.0</td>\n",
       "      <td>31.0</td>\n",
       "      <td>6752.0</td>\n",
       "      <td>89930.0</td>\n",
       "      <td>741632.0</td>\n",
       "      <td>B</td>\n",
       "    </tr>\n",
       "    <tr>\n",
       "      <th>3</th>\n",
       "      <td>Prefeitura Municipal de Abaeté - MG</td>\n",
       "      <td>3100203</td>\n",
       "      <td>MG</td>\n",
       "      <td>23223.0</td>\n",
       "      <td>0,310158289</td>\n",
       "      <td>A</td>\n",
       "      <td>0,901489297</td>\n",
       "      <td>B</td>\n",
       "      <td>0,13432183</td>\n",
       "      <td>A</td>\n",
       "      <td>...</td>\n",
       "      <td>Abaeté</td>\n",
       "      <td>Sudeste</td>\n",
       "      <td>Lago de Três Marias</td>\n",
       "      <td>3100203.0</td>\n",
       "      <td>16.0</td>\n",
       "      <td>3.0</td>\n",
       "      <td>245.0</td>\n",
       "      <td>8415.0</td>\n",
       "      <td>0.0</td>\n",
       "      <td>D</td>\n",
       "    </tr>\n",
       "    <tr>\n",
       "      <th>4</th>\n",
       "      <td>Prefeitura Municipal de Abaetetuba - PA</td>\n",
       "      <td>1500107</td>\n",
       "      <td>PA</td>\n",
       "      <td>156292.0</td>\n",
       "      <td>0,031986086</td>\n",
       "      <td>A</td>\n",
       "      <td>0,961195332</td>\n",
       "      <td>C</td>\n",
       "      <td>0,882159646</td>\n",
       "      <td>A</td>\n",
       "      <td>...</td>\n",
       "      <td>Abaetetuba</td>\n",
       "      <td>NaN</td>\n",
       "      <td>NaN</td>\n",
       "      <td>NaN</td>\n",
       "      <td>NaN</td>\n",
       "      <td>NaN</td>\n",
       "      <td>NaN</td>\n",
       "      <td>NaN</td>\n",
       "      <td>NaN</td>\n",
       "      <td>NaN</td>\n",
       "    </tr>\n",
       "  </tbody>\n",
       "</table>\n",
       "<p>5 rows × 21 columns</p>\n",
       "</div>"
      ],
      "text/plain": [
       "                                        Instituição  Cod.IBGE  UF  População  \\\n",
       "0      Prefeitura Municipal de Abadia de Goiás - GO   5200050  GO     8583.0   \n",
       "1  Prefeitura Municipal de Abadia dos Dourados - MG   3100104  MG     6972.0   \n",
       "2            Prefeitura Municipal de Abadiânia - GO   5200100  GO    19614.0   \n",
       "3               Prefeitura Municipal de Abaeté - MG   3100203  MG    23223.0   \n",
       "4           Prefeitura Municipal de Abaetetuba - PA   1500107  PA   156292.0   \n",
       "\n",
       "   Indicador_1 Nota_1  Indicador_2 Nota_2  Indicador_3 Nota_3  ...  \\\n",
       "0  0,127976496      A  0,906314496      B  0,962423688      A  ...   \n",
       "1  0,165696027      A   0,90987563      B  0,774738727      A  ...   \n",
       "2  0,154622885      A  0,959243401      C  1,832419324      C  ...   \n",
       "3  0,310158289      A  0,901489297      B   0,13432183      A  ...   \n",
       "4  0,031986086      A  0,961195332      C  0,882159646      A  ...   \n",
       "\n",
       "             MUNICIPIO         MACRO                     REGIAO_TURISTICA  \\\n",
       "0      Abadia de Goiás           NaN                                  NaN   \n",
       "1  Abadia dos Dourados           NaN                                  NaN   \n",
       "2            Abadiânia  Centro-Oeste  Região Turística do Ouro e Cristais   \n",
       "3               Abaeté       Sudeste                  Lago de Três Marias   \n",
       "4           Abaetetuba           NaN                                  NaN   \n",
       "\n",
       "    COD_IBGE  QUANTIDADE_EMPREGOS  QUANTIDADE_ ESTABELECIMENTOS  \\\n",
       "0        NaN                  NaN                           NaN   \n",
       "1        NaN                  NaN                           NaN   \n",
       "2  5200100.0                157.0                          31.0   \n",
       "3  3100203.0                 16.0                           3.0   \n",
       "4        NaN                  NaN                           NaN   \n",
       "\n",
       "   QUANTIDADE_VISITAS_ESTIMADAS_ INTERNACIONAL  \\\n",
       "0                                          NaN   \n",
       "1                                          NaN   \n",
       "2                                       6752.0   \n",
       "3                                        245.0   \n",
       "4                                          NaN   \n",
       "\n",
       "   QUANTIDADE_VISITAS_ESTIMADAS_ NACIONAL  ARRECADACAO  CLUSTER  \n",
       "0                                     NaN          NaN      NaN  \n",
       "1                                     NaN          NaN      NaN  \n",
       "2                                 89930.0     741632.0        B  \n",
       "3                                  8415.0          0.0        D  \n",
       "4                                     NaN          NaN      NaN  \n",
       "\n",
       "[5 rows x 21 columns]"
      ]
     },
     "execution_count": 12,
     "metadata": {},
     "output_type": "execute_result"
    }
   ],
   "source": [
    "df = pd.merge(df_capag,df_categ,on=['MUNICIPIO','UF'],how='left')\n",
    "print(df.shape)\n",
    "df.head(5)"
   ]
  },
  {
   "cell_type": "code",
   "execution_count": 13,
   "metadata": {},
   "outputs": [
    {
     "name": "stdout",
     "output_type": "stream",
     "text": [
      "<class 'pandas.core.frame.DataFrame'>\n",
      "Int64Index: 3974 entries, 0 to 3973\n",
      "Data columns (total 21 columns):\n",
      " #   Column                                       Non-Null Count  Dtype  \n",
      "---  ------                                       --------------  -----  \n",
      " 0   Instituição                                  3974 non-null   object \n",
      " 1   Cod.IBGE                                     3974 non-null   int64  \n",
      " 2   UF                                           3974 non-null   object \n",
      " 3   População                                    3974 non-null   float64\n",
      " 4   Indicador_1                                  3974 non-null   object \n",
      " 5   Nota_1                                       3974 non-null   object \n",
      " 6   Indicador_2                                  3974 non-null   object \n",
      " 7   Nota_2                                       3974 non-null   object \n",
      " 8   Indicador_3                                  3974 non-null   object \n",
      " 9   Nota_3                                       3974 non-null   object \n",
      " 10  Classificação da CAPAG                       3974 non-null   object \n",
      " 11  MUNICIPIO                                    3974 non-null   object \n",
      " 12  MACRO                                        2037 non-null   object \n",
      " 13  REGIAO_TURISTICA                             2037 non-null   object \n",
      " 14  COD_IBGE                                     2037 non-null   float64\n",
      " 15  QUANTIDADE_EMPREGOS                          2037 non-null   float64\n",
      " 16  QUANTIDADE_ ESTABELECIMENTOS                 2037 non-null   float64\n",
      " 17  QUANTIDADE_VISITAS_ESTIMADAS_ INTERNACIONAL  2037 non-null   float64\n",
      " 18  QUANTIDADE_VISITAS_ESTIMADAS_ NACIONAL       2037 non-null   float64\n",
      " 19  ARRECADACAO                                  2037 non-null   float64\n",
      " 20  CLUSTER                                      2037 non-null   object \n",
      "dtypes: float64(7), int64(1), object(13)\n",
      "memory usage: 683.0+ KB\n"
     ]
    }
   ],
   "source": [
    "df.info()"
   ]
  },
  {
   "cell_type": "code",
   "execution_count": 14,
   "metadata": {},
   "outputs": [
    {
     "data": {
      "text/html": [
       "<div>\n",
       "<style scoped>\n",
       "    .dataframe tbody tr th:only-of-type {\n",
       "        vertical-align: middle;\n",
       "    }\n",
       "\n",
       "    .dataframe tbody tr th {\n",
       "        vertical-align: top;\n",
       "    }\n",
       "\n",
       "    .dataframe thead th {\n",
       "        text-align: right;\n",
       "    }\n",
       "</style>\n",
       "<table border=\"1\" class=\"dataframe\">\n",
       "  <thead>\n",
       "    <tr style=\"text-align: right;\">\n",
       "      <th></th>\n",
       "      <th>Cod.IBGE</th>\n",
       "      <th>População</th>\n",
       "      <th>COD_IBGE</th>\n",
       "      <th>QUANTIDADE_EMPREGOS</th>\n",
       "      <th>QUANTIDADE_ ESTABELECIMENTOS</th>\n",
       "      <th>QUANTIDADE_VISITAS_ESTIMADAS_ INTERNACIONAL</th>\n",
       "      <th>QUANTIDADE_VISITAS_ESTIMADAS_ NACIONAL</th>\n",
       "      <th>ARRECADACAO</th>\n",
       "    </tr>\n",
       "  </thead>\n",
       "  <tbody>\n",
       "    <tr>\n",
       "      <th>count</th>\n",
       "      <td>3.974000e+03</td>\n",
       "      <td>3.974000e+03</td>\n",
       "      <td>2.037000e+03</td>\n",
       "      <td>2037.000000</td>\n",
       "      <td>2037.000000</td>\n",
       "      <td>2.037000e+03</td>\n",
       "      <td>2.037000e+03</td>\n",
       "      <td>2.037000e+03</td>\n",
       "    </tr>\n",
       "    <tr>\n",
       "      <th>mean</th>\n",
       "      <td>3.340702e+06</td>\n",
       "      <td>4.418903e+04</td>\n",
       "      <td>3.461066e+06</td>\n",
       "      <td>110.350515</td>\n",
       "      <td>8.519391</td>\n",
       "      <td>4.749243e+03</td>\n",
       "      <td>7.546038e+04</td>\n",
       "      <td>1.512638e+06</td>\n",
       "    </tr>\n",
       "    <tr>\n",
       "      <th>std</th>\n",
       "      <td>9.431646e+05</td>\n",
       "      <td>2.546367e+05</td>\n",
       "      <td>8.775250e+05</td>\n",
       "      <td>626.894101</td>\n",
       "      <td>28.689076</td>\n",
       "      <td>5.310837e+04</td>\n",
       "      <td>4.393835e+05</td>\n",
       "      <td>1.496106e+07</td>\n",
       "    </tr>\n",
       "    <tr>\n",
       "      <th>min</th>\n",
       "      <td>1.100023e+06</td>\n",
       "      <td>1.088000e+03</td>\n",
       "      <td>1.100023e+06</td>\n",
       "      <td>0.000000</td>\n",
       "      <td>0.000000</td>\n",
       "      <td>0.000000e+00</td>\n",
       "      <td>0.000000e+00</td>\n",
       "      <td>0.000000e+00</td>\n",
       "    </tr>\n",
       "    <tr>\n",
       "      <th>25%</th>\n",
       "      <td>2.702318e+06</td>\n",
       "      <td>5.839750e+03</td>\n",
       "      <td>2.930774e+06</td>\n",
       "      <td>0.000000</td>\n",
       "      <td>0.000000</td>\n",
       "      <td>0.000000e+00</td>\n",
       "      <td>0.000000e+00</td>\n",
       "      <td>0.000000e+00</td>\n",
       "    </tr>\n",
       "    <tr>\n",
       "      <th>50%</th>\n",
       "      <td>3.163052e+06</td>\n",
       "      <td>1.243250e+04</td>\n",
       "      <td>3.502903e+06</td>\n",
       "      <td>8.000000</td>\n",
       "      <td>2.000000</td>\n",
       "      <td>8.000000e+01</td>\n",
       "      <td>7.240000e+03</td>\n",
       "      <td>0.000000e+00</td>\n",
       "    </tr>\n",
       "    <tr>\n",
       "      <th>75%</th>\n",
       "      <td>4.122194e+06</td>\n",
       "      <td>2.797225e+04</td>\n",
       "      <td>4.205456e+06</td>\n",
       "      <td>44.000000</td>\n",
       "      <td>6.000000</td>\n",
       "      <td>4.990000e+02</td>\n",
       "      <td>3.193000e+04</td>\n",
       "      <td>0.000000e+00</td>\n",
       "    </tr>\n",
       "    <tr>\n",
       "      <th>max</th>\n",
       "      <td>5.222302e+06</td>\n",
       "      <td>1.217687e+07</td>\n",
       "      <td>5.222302e+06</td>\n",
       "      <td>17946.000000</td>\n",
       "      <td>785.000000</td>\n",
       "      <td>1.651696e+06</td>\n",
       "      <td>1.347863e+07</td>\n",
       "      <td>4.733092e+08</td>\n",
       "    </tr>\n",
       "  </tbody>\n",
       "</table>\n",
       "</div>"
      ],
      "text/plain": [
       "           Cod.IBGE     População      COD_IBGE  QUANTIDADE_EMPREGOS  \\\n",
       "count  3.974000e+03  3.974000e+03  2.037000e+03          2037.000000   \n",
       "mean   3.340702e+06  4.418903e+04  3.461066e+06           110.350515   \n",
       "std    9.431646e+05  2.546367e+05  8.775250e+05           626.894101   \n",
       "min    1.100023e+06  1.088000e+03  1.100023e+06             0.000000   \n",
       "25%    2.702318e+06  5.839750e+03  2.930774e+06             0.000000   \n",
       "50%    3.163052e+06  1.243250e+04  3.502903e+06             8.000000   \n",
       "75%    4.122194e+06  2.797225e+04  4.205456e+06            44.000000   \n",
       "max    5.222302e+06  1.217687e+07  5.222302e+06         17946.000000   \n",
       "\n",
       "       QUANTIDADE_ ESTABELECIMENTOS  \\\n",
       "count                   2037.000000   \n",
       "mean                       8.519391   \n",
       "std                       28.689076   \n",
       "min                        0.000000   \n",
       "25%                        0.000000   \n",
       "50%                        2.000000   \n",
       "75%                        6.000000   \n",
       "max                      785.000000   \n",
       "\n",
       "       QUANTIDADE_VISITAS_ESTIMADAS_ INTERNACIONAL  \\\n",
       "count                                 2.037000e+03   \n",
       "mean                                  4.749243e+03   \n",
       "std                                   5.310837e+04   \n",
       "min                                   0.000000e+00   \n",
       "25%                                   0.000000e+00   \n",
       "50%                                   8.000000e+01   \n",
       "75%                                   4.990000e+02   \n",
       "max                                   1.651696e+06   \n",
       "\n",
       "       QUANTIDADE_VISITAS_ESTIMADAS_ NACIONAL   ARRECADACAO  \n",
       "count                            2.037000e+03  2.037000e+03  \n",
       "mean                             7.546038e+04  1.512638e+06  \n",
       "std                              4.393835e+05  1.496106e+07  \n",
       "min                              0.000000e+00  0.000000e+00  \n",
       "25%                              0.000000e+00  0.000000e+00  \n",
       "50%                              7.240000e+03  0.000000e+00  \n",
       "75%                              3.193000e+04  0.000000e+00  \n",
       "max                              1.347863e+07  4.733092e+08  "
      ]
     },
     "execution_count": 14,
     "metadata": {},
     "output_type": "execute_result"
    }
   ],
   "source": [
    "df.describe()"
   ]
  },
  {
   "cell_type": "code",
   "execution_count": 15,
   "metadata": {},
   "outputs": [
    {
     "name": "stdout",
     "output_type": "stream",
     "text": [
      "Instituição                                       0\n",
      "Cod.IBGE                                          0\n",
      "UF                                                0\n",
      "População                                         0\n",
      "Indicador_1                                       0\n",
      "Nota_1                                            0\n",
      "Indicador_2                                       0\n",
      "Nota_2                                            0\n",
      "Indicador_3                                       0\n",
      "Nota_3                                            0\n",
      "Classificação da CAPAG                            0\n",
      "MUNICIPIO                                         0\n",
      "MACRO                                          1937\n",
      "REGIAO_TURISTICA                               1937\n",
      "COD_IBGE                                       1937\n",
      "QUANTIDADE_EMPREGOS                            1937\n",
      "QUANTIDADE_ ESTABELECIMENTOS                   1937\n",
      "QUANTIDADE_VISITAS_ESTIMADAS_ INTERNACIONAL    1937\n",
      "QUANTIDADE_VISITAS_ESTIMADAS_ NACIONAL         1937\n",
      "ARRECADACAO                                    1937\n",
      "CLUSTER                                        1937\n",
      "dtype: int64\n"
     ]
    }
   ],
   "source": [
    "print(pd.isnull(df).sum())"
   ]
  },
  {
   "cell_type": "code",
   "execution_count": 16,
   "metadata": {},
   "outputs": [
    {
     "data": {
      "image/png": "[encoded data removed]",
      "text/plain": [
       "<Figure size 864x576 with 1 Axes>"
      ]
     },
     "metadata": {
      "needs_background": "light"
     },
     "output_type": "display_data"
    }
   ],
   "source": [
    "# Visualizando onde há Valores NaN\n",
    "plt.figure(figsize=(12,8))\n",
    "sns.heatmap(df.isnull(),yticklabels=False,cbar=False,cmap='viridis')\n",
    "plt.title('Dados Nulos',size = 22)\n",
    "plt.show()"
   ]
  },
  {
   "cell_type": "markdown",
   "metadata": {},
   "source": [
    "# Análise Diagnóstica"
   ]
  },
  {
   "cell_type": "code",
   "execution_count": 17,
   "metadata": {},
   "outputs": [
    {
     "data": {
      "text/plain": [
       "<AxesSubplot:>"
      ]
     },
     "execution_count": 17,
     "metadata": {},
     "output_type": "execute_result"
    },
    {
     "data": {
      "image/png": "[encoded data removed]",
      "text/plain": [
       "<Figure size 792x648 with 2 Axes>"
      ]
     },
     "metadata": {
      "needs_background": "light"
     },
     "output_type": "display_data"
    }
   ],
   "source": [
    "# Gráfico de correlação entre os primeiros 50 tipos celulares\n",
    "corr_celular = df.corr()\n",
    "\n",
    "# Generate a mask for the upper triangle\n",
    "mask = np.triu(np.ones_like(corr_celular, dtype=bool))\n",
    "\n",
    "# Set up the matplotlib figure\n",
    "f, ax = plt.subplots(figsize=(11, 9))\n",
    "\n",
    "# Generate a custom diverging colormap\n",
    "cmap = sns.diverging_palette(230, 20, as_cmap=True)\n",
    "\n",
    "# Draw the heatmap with the mask and correct aspect ratio\n",
    "sns.heatmap(corr_celular, mask=mask, cmap=cmap, center=0,\n",
    "\n",
    "            square=True, linewidths=.5, cbar_kws={\"shrink\": .5})"
   ]
  },
  {
   "cell_type": "code",
   "execution_count": 18,
   "metadata": {
    "scrolled": false
   },
   "outputs": [
    {
     "data": {
      "image/png": "[encoded data removed]",
      "text/plain": [
       "<Figure size 864x432 with 1 Axes>"
      ]
     },
     "metadata": {
      "needs_background": "light"
     },
     "output_type": "display_data"
    }
   ],
   "source": [
    "plt.figure(figsize=(12,6))\n",
    "sns.countplot(x='UF', hue = 'Classificação da CAPAG',data = df, palette='Oranges', order=pd.value_counts(df['UF']).iloc[:7].index, edgecolor=\"black\",linewidth = 1, zorder = 3, alpha = 0.9 )\n",
    "plt.grid(True, zorder = 0)\n",
    "plt.title(\"Distribuição de CAPAG por Estado (Top 7)\")\n",
    "plt.xlabel('Sigla do Estado')\n",
    "plt.ylabel('Contagem de registros')\n",
    "plt.show()"
   ]
  },
  {
   "cell_type": "code",
   "execution_count": 19,
   "metadata": {},
   "outputs": [
    {
     "data": {
      "image/png": "[encoded data removed]",
      "text/plain": [
       "<Figure size 576x576 with 1 Axes>"
      ]
     },
     "metadata": {
      "needs_background": "light"
     },
     "output_type": "display_data"
    },
    {
     "data": {
      "image/png": "[encoded data removed]",
      "text/plain": [
       "<Figure size 576x576 with 1 Axes>"
      ]
     },
     "metadata": {
      "needs_background": "light"
     },
     "output_type": "display_data"
    }
   ],
   "source": [
    "df_sorted_desc= df.sort_values('QUANTIDADE_VISITAS_ESTIMADAS_ NACIONAL',ascending=False)\n",
    "\n",
    "plt.figure(figsize=(8,8))\n",
    "plt.subplot(2,1,2) \n",
    "plt.bar('UF', 'QUANTIDADE_VISITAS_ESTIMADAS_ NACIONAL',data=df_sorted_desc.iloc[:5], edgecolor=\"black\",linewidth = 1, color = 'salmon', zorder = 3, alpha = 0.9)\n",
    "plt.grid(True, zorder = 0)\n",
    "plt.title(\"Qtd de visitas estimadas nacional por estado (Top 5)\")\n",
    "plt.xlabel('Sigla do Estado')\n",
    "plt.ylabel('Qtd de visitas estimadas nacional')\n",
    "plt.show()\n",
    "\n",
    "df_sorted_desc= df.sort_values('QUANTIDADE_VISITAS_ESTIMADAS_ INTERNACIONAL',ascending=False)\n",
    "\n",
    "plt.figure(figsize=(8,8))\n",
    "plt.subplot(2,1,2) \n",
    "plt.bar('UF', 'QUANTIDADE_VISITAS_ESTIMADAS_ INTERNACIONAL',data=df_sorted_desc.iloc[:5], edgecolor=\"black\",linewidth = 1, color = 'salmon', zorder = 3, alpha = 0.9)\n",
    "plt.grid(True, zorder = 0)\n",
    "plt.title(\"Qtd de visitas estimadas internacional por estado (Top 5)\")\n",
    "plt.xlabel('Sigla do Estado')\n",
    "plt.ylabel('Qtd de visitas estimadas internacional')\n",
    "plt.show()"
   ]
  },
  {
   "cell_type": "code",
   "execution_count": 20,
   "metadata": {},
   "outputs": [
    {
     "data": {
      "image/png": "[encoded data removed]",
      "text/plain": [
       "<Figure size 1152x576 with 1 Axes>"
      ]
     },
     "metadata": {
      "needs_background": "light"
     },
     "output_type": "display_data"
    },
    {
     "data": {
      "image/png": "[encoded data removed]",
      "text/plain": [
       "<Figure size 1152x576 with 1 Axes>"
      ]
     },
     "metadata": {
      "needs_background": "light"
     },
     "output_type": "display_data"
    }
   ],
   "source": [
    "df_sorted_desc= df.sort_values('QUANTIDADE_VISITAS_ESTIMADAS_ NACIONAL',ascending=False)\n",
    "\n",
    "plt.figure(figsize=(16,8))\n",
    "plt.subplot(2,1,2) \n",
    "plt.bar('MUNICIPIO', 'QUANTIDADE_VISITAS_ESTIMADAS_ NACIONAL',data=df_sorted_desc.iloc[:7], edgecolor=\"black\",linewidth = 1, color = 'salmon', zorder = 3, alpha = 0.9)\n",
    "plt.grid(True, zorder = 0)\n",
    "plt.title(\"Qtd de visitas estimadas nacional por Municipio (Top 7)\")\n",
    "plt.xlabel('Municipios')\n",
    "plt.ylabel('Qtd de visitas estimadas nacional')\n",
    "plt.show()\n",
    "\n",
    "df_sorted_desc= df.sort_values('QUANTIDADE_VISITAS_ESTIMADAS_ INTERNACIONAL',ascending=False)\n",
    "\n",
    "plt.figure(figsize=(16,8))\n",
    "plt.subplot(2,1,2) \n",
    "plt.bar('MUNICIPIO', 'QUANTIDADE_VISITAS_ESTIMADAS_ INTERNACIONAL',data=df_sorted_desc.iloc[:7], edgecolor=\"black\",linewidth = 1, color = 'salmon', zorder = 3, alpha = 0.9)\n",
    "plt.grid(True, zorder = 0)\n",
    "plt.title(\"Qtd de visitas estimadas internacional por Municipio (Top 7)\")\n",
    "plt.xlabel('Municipios')\n",
    "plt.ylabel('Qtd de visitas estimadas internacional')\n",
    "plt.show()"
   ]
  },
  {
   "cell_type": "code",
   "execution_count": 21,
   "metadata": {},
   "outputs": [
    {
     "data": {
      "image/png": "[encoded data removed]",
      "text/plain": [
       "<Figure size 576x576 with 1 Axes>"
      ]
     },
     "metadata": {
      "needs_background": "light"
     },
     "output_type": "display_data"
    },
    {
     "data": {
      "image/png": "[encoded data removed]",
      "text/plain": [
       "<Figure size 576x576 with 1 Axes>"
      ]
     },
     "metadata": {
      "needs_background": "light"
     },
     "output_type": "display_data"
    },
    {
     "data": {
      "image/png": "[encoded data removed]",
      "text/plain": [
       "<Figure size 576x576 with 1 Axes>"
      ]
     },
     "metadata": {
      "needs_background": "light"
     },
     "output_type": "display_data"
    }
   ],
   "source": [
    "df_sorted_desc1= df.sort_values('Indicador_1',ascending=False)\n",
    "df_sorted_desc2= df.sort_values('Indicador_2',ascending=False)\n",
    "df_sorted_desc3= df.sort_values('Indicador_3',ascending=False)\n",
    "\n",
    "plt.figure(figsize=(8,8))\n",
    "plt.subplot(2,1,2) \n",
    "plt.bar('UF', 'Indicador_1',data=df_sorted_desc1.iloc[:5], color = 'salmon', zorder = 3)\n",
    "plt.grid(True, zorder = 0)\n",
    "plt.title(\"Estados com maior quantidade do Indicador 1\")\n",
    "plt.xlabel('Sigla do Estado')\n",
    "plt.ylabel('Indicador 1')\n",
    "plt.show()\n",
    "\n",
    "plt.figure(figsize=(8,8))\n",
    "plt.subplot(2,1,2) \n",
    "plt.bar('UF', 'Indicador_2',data=df_sorted_desc2.iloc[:5], color = 'salmon', zorder = 3)\n",
    "plt.grid(True, zorder = 0)\n",
    "plt.title(\"Estados com maior quantidade do Indicador 2\")\n",
    "plt.xlabel('Sigla do Estado')\n",
    "plt.ylabel('Indicador 2')\n",
    "plt.show()\n",
    "\n",
    "plt.figure(figsize=(8,8))\n",
    "plt.subplot(2,1,2) \n",
    "plt.bar('UF', 'Indicador_3',data=df_sorted_desc3.iloc[:5], color = 'salmon', zorder = 3)\n",
    "plt.grid(True, zorder = 0)\n",
    "plt.title(\"Estados com maior quantidade do Indicador 3\")\n",
    "plt.xlabel('Sigla do Estado')\n",
    "plt.ylabel('Indicador 3')\n",
    "plt.show()"
   ]
  },
  {
   "cell_type": "code",
   "execution_count": 22,
   "metadata": {},
   "outputs": [
    {
     "data": {
      "image/png": "[encoded data removed]",
      "text/plain": [
       "<Figure size 576x576 with 1 Axes>"
      ]
     },
     "metadata": {
      "needs_background": "light"
     },
     "output_type": "display_data"
    }
   ],
   "source": [
    "df_sorted_desc= df.sort_values('ARRECADACAO',ascending=False)\n",
    "\n",
    "plt.figure(figsize=(8,8))\n",
    "plt.bar('UF', 'ARRECADACAO',data=df_sorted_desc.iloc[:5], edgecolor=\"black\",linewidth = 1, color = 'salmon', zorder = 3, alpha = 0.9)\n",
    "plt.grid(True, zorder = 0)\n",
    "plt.title(\"Arrecadação por estado\")\n",
    "plt.xlabel('Sigla do Estado')\n",
    "plt.ylabel('Arrecadação (em centena de bilhão)')\n",
    "plt.show()"
   ]
  },
  {
   "cell_type": "markdown",
   "metadata": {},
   "source": [
    "# Iniciação da Modelagem e Tratamento dos dados\n"
   ]
  },
  {
   "cell_type": "markdown",
   "metadata": {},
   "source": [
    "<br>"
   ]
  },
  {
   "cell_type": "markdown",
   "metadata": {},
   "source": [
    "# <<< Lembrando que nossa Target é a Classificação da CAPAG >>>"
   ]
  },
  {
   "cell_type": "markdown",
   "metadata": {},
   "source": [
    "<br>"
   ]
  },
  {
   "cell_type": "markdown",
   "metadata": {},
   "source": [
    "## Tratando as valores NaN"
   ]
  },
  {
   "cell_type": "code",
   "execution_count": 23,
   "metadata": {},
   "outputs": [
    {
     "name": "stdout",
     "output_type": "stream",
     "text": [
      "(2037, 21)\n",
      "Instituição                                    0\n",
      "Cod.IBGE                                       0\n",
      "UF                                             0\n",
      "População                                      0\n",
      "Indicador_1                                    0\n",
      "Nota_1                                         0\n",
      "Indicador_2                                    0\n",
      "Nota_2                                         0\n",
      "Indicador_3                                    0\n",
      "Nota_3                                         0\n",
      "Classificação da CAPAG                         0\n",
      "MUNICIPIO                                      0\n",
      "MACRO                                          0\n",
      "REGIAO_TURISTICA                               0\n",
      "COD_IBGE                                       0\n",
      "QUANTIDADE_EMPREGOS                            0\n",
      "QUANTIDADE_ ESTABELECIMENTOS                   0\n",
      "QUANTIDADE_VISITAS_ESTIMADAS_ INTERNACIONAL    0\n",
      "QUANTIDADE_VISITAS_ESTIMADAS_ NACIONAL         0\n",
      "ARRECADACAO                                    0\n",
      "CLUSTER                                        0\n",
      "dtype: int64\n"
     ]
    },
    {
     "data": {
      "text/html": [
       "<div>\n",
       "<style scoped>\n",
       "    .dataframe tbody tr th:only-of-type {\n",
       "        vertical-align: middle;\n",
       "    }\n",
       "\n",
       "    .dataframe tbody tr th {\n",
       "        vertical-align: top;\n",
       "    }\n",
       "\n",
       "    .dataframe thead th {\n",
       "        text-align: right;\n",
       "    }\n",
       "</style>\n",
       "<table border=\"1\" class=\"dataframe\">\n",
       "  <thead>\n",
       "    <tr style=\"text-align: right;\">\n",
       "      <th></th>\n",
       "      <th>Instituição</th>\n",
       "      <th>Cod.IBGE</th>\n",
       "      <th>UF</th>\n",
       "      <th>População</th>\n",
       "      <th>Indicador_1</th>\n",
       "      <th>Nota_1</th>\n",
       "      <th>Indicador_2</th>\n",
       "      <th>Nota_2</th>\n",
       "      <th>Indicador_3</th>\n",
       "      <th>Nota_3</th>\n",
       "      <th>...</th>\n",
       "      <th>MUNICIPIO</th>\n",
       "      <th>MACRO</th>\n",
       "      <th>REGIAO_TURISTICA</th>\n",
       "      <th>COD_IBGE</th>\n",
       "      <th>QUANTIDADE_EMPREGOS</th>\n",
       "      <th>QUANTIDADE_ ESTABELECIMENTOS</th>\n",
       "      <th>QUANTIDADE_VISITAS_ESTIMADAS_ INTERNACIONAL</th>\n",
       "      <th>QUANTIDADE_VISITAS_ESTIMADAS_ NACIONAL</th>\n",
       "      <th>ARRECADACAO</th>\n",
       "      <th>CLUSTER</th>\n",
       "    </tr>\n",
       "  </thead>\n",
       "  <tbody>\n",
       "    <tr>\n",
       "      <th>2</th>\n",
       "      <td>Prefeitura Municipal de Abadiânia - GO</td>\n",
       "      <td>5200100</td>\n",
       "      <td>GO</td>\n",
       "      <td>19614.0</td>\n",
       "      <td>0,154622885</td>\n",
       "      <td>A</td>\n",
       "      <td>0,959243401</td>\n",
       "      <td>C</td>\n",
       "      <td>1,832419324</td>\n",
       "      <td>C</td>\n",
       "      <td>...</td>\n",
       "      <td>Abadiânia</td>\n",
       "      <td>Centro-Oeste</td>\n",
       "      <td>Região Turística do Ouro e Cristais</td>\n",
       "      <td>5200100.0</td>\n",
       "      <td>157.0</td>\n",
       "      <td>31.0</td>\n",
       "      <td>6752.0</td>\n",
       "      <td>89930.0</td>\n",
       "      <td>741632.0</td>\n",
       "      <td>B</td>\n",
       "    </tr>\n",
       "    <tr>\n",
       "      <th>3</th>\n",
       "      <td>Prefeitura Municipal de Abaeté - MG</td>\n",
       "      <td>3100203</td>\n",
       "      <td>MG</td>\n",
       "      <td>23223.0</td>\n",
       "      <td>0,310158289</td>\n",
       "      <td>A</td>\n",
       "      <td>0,901489297</td>\n",
       "      <td>B</td>\n",
       "      <td>0,13432183</td>\n",
       "      <td>A</td>\n",
       "      <td>...</td>\n",
       "      <td>Abaeté</td>\n",
       "      <td>Sudeste</td>\n",
       "      <td>Lago de Três Marias</td>\n",
       "      <td>3100203.0</td>\n",
       "      <td>16.0</td>\n",
       "      <td>3.0</td>\n",
       "      <td>245.0</td>\n",
       "      <td>8415.0</td>\n",
       "      <td>0.0</td>\n",
       "      <td>D</td>\n",
       "    </tr>\n",
       "    <tr>\n",
       "      <th>7</th>\n",
       "      <td>Prefeitura Municipal de Abdon Batista - SC</td>\n",
       "      <td>4200051</td>\n",
       "      <td>SC</td>\n",
       "      <td>2577.0</td>\n",
       "      <td>0,039165365</td>\n",
       "      <td>A</td>\n",
       "      <td>0,831326184</td>\n",
       "      <td>A</td>\n",
       "      <td>0,161233074</td>\n",
       "      <td>A</td>\n",
       "      <td>...</td>\n",
       "      <td>Abdon Batista</td>\n",
       "      <td>Sul</td>\n",
       "      <td>Vale dos Imigrantes</td>\n",
       "      <td>4200051.0</td>\n",
       "      <td>0.0</td>\n",
       "      <td>0.0</td>\n",
       "      <td>0.0</td>\n",
       "      <td>0.0</td>\n",
       "      <td>0.0</td>\n",
       "      <td>E</td>\n",
       "    </tr>\n",
       "    <tr>\n",
       "      <th>8</th>\n",
       "      <td>Prefeitura Municipal de Abelardo Luz - SC</td>\n",
       "      <td>4200101</td>\n",
       "      <td>SC</td>\n",
       "      <td>17847.0</td>\n",
       "      <td>0,057427262</td>\n",
       "      <td>A</td>\n",
       "      <td>0,893905927</td>\n",
       "      <td>A</td>\n",
       "      <td>0,128920166</td>\n",
       "      <td>A</td>\n",
       "      <td>...</td>\n",
       "      <td>Abelardo Luz</td>\n",
       "      <td>Sul</td>\n",
       "      <td>Grande Oeste</td>\n",
       "      <td>4200101.0</td>\n",
       "      <td>14.0</td>\n",
       "      <td>4.0</td>\n",
       "      <td>0.0</td>\n",
       "      <td>10515.0</td>\n",
       "      <td>0.0</td>\n",
       "      <td>D</td>\n",
       "    </tr>\n",
       "    <tr>\n",
       "      <th>9</th>\n",
       "      <td>Prefeitura Municipal de Abre Campo - MG</td>\n",
       "      <td>3100302</td>\n",
       "      <td>MG</td>\n",
       "      <td>13465.0</td>\n",
       "      <td>0,644296656</td>\n",
       "      <td>B</td>\n",
       "      <td>0,926109792</td>\n",
       "      <td>B</td>\n",
       "      <td>0,013112701</td>\n",
       "      <td>A</td>\n",
       "      <td>...</td>\n",
       "      <td>Abre Campo</td>\n",
       "      <td>Sudeste</td>\n",
       "      <td>Montanhas e Fé</td>\n",
       "      <td>3100302.0</td>\n",
       "      <td>16.0</td>\n",
       "      <td>3.0</td>\n",
       "      <td>0.0</td>\n",
       "      <td>14987.0</td>\n",
       "      <td>0.0</td>\n",
       "      <td>D</td>\n",
       "    </tr>\n",
       "  </tbody>\n",
       "</table>\n",
       "<p>5 rows × 21 columns</p>\n",
       "</div>"
      ],
      "text/plain": [
       "                                  Instituição  Cod.IBGE  UF  População  \\\n",
       "2      Prefeitura Municipal de Abadiânia - GO   5200100  GO    19614.0   \n",
       "3         Prefeitura Municipal de Abaeté - MG   3100203  MG    23223.0   \n",
       "7  Prefeitura Municipal de Abdon Batista - SC   4200051  SC     2577.0   \n",
       "8   Prefeitura Municipal de Abelardo Luz - SC   4200101  SC    17847.0   \n",
       "9     Prefeitura Municipal de Abre Campo - MG   3100302  MG    13465.0   \n",
       "\n",
       "   Indicador_1 Nota_1  Indicador_2 Nota_2  Indicador_3 Nota_3  ...  \\\n",
       "2  0,154622885      A  0,959243401      C  1,832419324      C  ...   \n",
       "3  0,310158289      A  0,901489297      B   0,13432183      A  ...   \n",
       "7  0,039165365      A  0,831326184      A  0,161233074      A  ...   \n",
       "8  0,057427262      A  0,893905927      A  0,128920166      A  ...   \n",
       "9  0,644296656      B  0,926109792      B  0,013112701      A  ...   \n",
       "\n",
       "       MUNICIPIO         MACRO                     REGIAO_TURISTICA  \\\n",
       "2      Abadiânia  Centro-Oeste  Região Turística do Ouro e Cristais   \n",
       "3         Abaeté       Sudeste                  Lago de Três Marias   \n",
       "7  Abdon Batista           Sul                  Vale dos Imigrantes   \n",
       "8   Abelardo Luz           Sul                         Grande Oeste   \n",
       "9     Abre Campo       Sudeste                       Montanhas e Fé   \n",
       "\n",
       "    COD_IBGE  QUANTIDADE_EMPREGOS  QUANTIDADE_ ESTABELECIMENTOS  \\\n",
       "2  5200100.0                157.0                          31.0   \n",
       "3  3100203.0                 16.0                           3.0   \n",
       "7  4200051.0                  0.0                           0.0   \n",
       "8  4200101.0                 14.0                           4.0   \n",
       "9  3100302.0                 16.0                           3.0   \n",
       "\n",
       "   QUANTIDADE_VISITAS_ESTIMADAS_ INTERNACIONAL  \\\n",
       "2                                       6752.0   \n",
       "3                                        245.0   \n",
       "7                                          0.0   \n",
       "8                                          0.0   \n",
       "9                                          0.0   \n",
       "\n",
       "   QUANTIDADE_VISITAS_ESTIMADAS_ NACIONAL  ARRECADACAO  CLUSTER  \n",
       "2                                 89930.0     741632.0        B  \n",
       "3                                  8415.0          0.0        D  \n",
       "7                                     0.0          0.0        E  \n",
       "8                                 10515.0          0.0        D  \n",
       "9                                 14987.0          0.0        D  \n",
       "\n",
       "[5 rows x 21 columns]"
      ]
     },
     "execution_count": 23,
     "metadata": {},
     "output_type": "execute_result"
    }
   ],
   "source": [
    "df.dropna(axis = 0, inplace = True)\n",
    "print(df.shape)\n",
    "print(pd.isnull(df).sum())\n",
    "df.head()"
   ]
  },
  {
   "cell_type": "code",
   "execution_count": 24,
   "metadata": {},
   "outputs": [
    {
     "name": "stdout",
     "output_type": "stream",
     "text": [
      "C    1131\n",
      "B     465\n",
      "A     440\n",
      "D       1\n",
      "Name: Classificação da CAPAG, dtype: int64\n"
     ]
    }
   ],
   "source": [
    "# Verificando Clusteres CAPAG\n",
    "print(df['Classificação da CAPAG'].value_counts())\n",
    "df = df[df['Classificação da CAPAG'] != 'D'] # Removendo o Cluster D do DataFrame"
   ]
  },
  {
   "cell_type": "markdown",
   "metadata": {},
   "source": [
    "## Tratando as variáveis categóricas/strings"
   ]
  },
  {
   "cell_type": "code",
   "execution_count": 25,
   "metadata": {},
   "outputs": [
    {
     "data": {
      "text/html": [
       "<div>\n",
       "<style scoped>\n",
       "    .dataframe tbody tr th:only-of-type {\n",
       "        vertical-align: middle;\n",
       "    }\n",
       "\n",
       "    .dataframe tbody tr th {\n",
       "        vertical-align: top;\n",
       "    }\n",
       "\n",
       "    .dataframe thead th {\n",
       "        text-align: right;\n",
       "    }\n",
       "</style>\n",
       "<table border=\"1\" class=\"dataframe\">\n",
       "  <thead>\n",
       "    <tr style=\"text-align: right;\">\n",
       "      <th></th>\n",
       "      <th>Cod.IBGE</th>\n",
       "      <th>População</th>\n",
       "      <th>COD_IBGE</th>\n",
       "      <th>QUANTIDADE_EMPREGOS</th>\n",
       "      <th>QUANTIDADE_ ESTABELECIMENTOS</th>\n",
       "      <th>QUANTIDADE_VISITAS_ESTIMADAS_ INTERNACIONAL</th>\n",
       "      <th>QUANTIDADE_VISITAS_ESTIMADAS_ NACIONAL</th>\n",
       "      <th>ARRECADACAO</th>\n",
       "      <th>Instituição_Prefeitura Municipal de Abadiânia - GO</th>\n",
       "      <th>Instituição_Prefeitura Municipal de Abaeté - MG</th>\n",
       "      <th>...</th>\n",
       "      <th>REGIAO_TURISTICA_Águas do Oeste</th>\n",
       "      <th>REGIAO_TURISTICA_Águas e Flores Paulista</th>\n",
       "      <th>REGIAO_TURISTICA_Águas e Florestas da Linha do Equador</th>\n",
       "      <th>REGIAO_TURISTICA_Águas, Sabores e Saberes</th>\n",
       "      <th>CLUSTER_A</th>\n",
       "      <th>CLUSTER_B</th>\n",
       "      <th>CLUSTER_C</th>\n",
       "      <th>CLUSTER_D</th>\n",
       "      <th>CLUSTER_E</th>\n",
       "      <th>Classificação da CAPAG</th>\n",
       "    </tr>\n",
       "  </thead>\n",
       "  <tbody>\n",
       "    <tr>\n",
       "      <th>2</th>\n",
       "      <td>5200100</td>\n",
       "      <td>19614.0</td>\n",
       "      <td>5200100.0</td>\n",
       "      <td>157.0</td>\n",
       "      <td>31.0</td>\n",
       "      <td>6752.0</td>\n",
       "      <td>89930.0</td>\n",
       "      <td>741632.0</td>\n",
       "      <td>1</td>\n",
       "      <td>0</td>\n",
       "      <td>...</td>\n",
       "      <td>0</td>\n",
       "      <td>0</td>\n",
       "      <td>0</td>\n",
       "      <td>0</td>\n",
       "      <td>0</td>\n",
       "      <td>1</td>\n",
       "      <td>0</td>\n",
       "      <td>0</td>\n",
       "      <td>0</td>\n",
       "      <td>2</td>\n",
       "    </tr>\n",
       "    <tr>\n",
       "      <th>3</th>\n",
       "      <td>3100203</td>\n",
       "      <td>23223.0</td>\n",
       "      <td>3100203.0</td>\n",
       "      <td>16.0</td>\n",
       "      <td>3.0</td>\n",
       "      <td>245.0</td>\n",
       "      <td>8415.0</td>\n",
       "      <td>0.0</td>\n",
       "      <td>0</td>\n",
       "      <td>1</td>\n",
       "      <td>...</td>\n",
       "      <td>0</td>\n",
       "      <td>0</td>\n",
       "      <td>0</td>\n",
       "      <td>0</td>\n",
       "      <td>0</td>\n",
       "      <td>0</td>\n",
       "      <td>0</td>\n",
       "      <td>1</td>\n",
       "      <td>0</td>\n",
       "      <td>1</td>\n",
       "    </tr>\n",
       "    <tr>\n",
       "      <th>7</th>\n",
       "      <td>4200051</td>\n",
       "      <td>2577.0</td>\n",
       "      <td>4200051.0</td>\n",
       "      <td>0.0</td>\n",
       "      <td>0.0</td>\n",
       "      <td>0.0</td>\n",
       "      <td>0.0</td>\n",
       "      <td>0.0</td>\n",
       "      <td>0</td>\n",
       "      <td>0</td>\n",
       "      <td>...</td>\n",
       "      <td>0</td>\n",
       "      <td>0</td>\n",
       "      <td>0</td>\n",
       "      <td>0</td>\n",
       "      <td>0</td>\n",
       "      <td>0</td>\n",
       "      <td>0</td>\n",
       "      <td>0</td>\n",
       "      <td>1</td>\n",
       "      <td>0</td>\n",
       "    </tr>\n",
       "    <tr>\n",
       "      <th>8</th>\n",
       "      <td>4200101</td>\n",
       "      <td>17847.0</td>\n",
       "      <td>4200101.0</td>\n",
       "      <td>14.0</td>\n",
       "      <td>4.0</td>\n",
       "      <td>0.0</td>\n",
       "      <td>10515.0</td>\n",
       "      <td>0.0</td>\n",
       "      <td>0</td>\n",
       "      <td>0</td>\n",
       "      <td>...</td>\n",
       "      <td>0</td>\n",
       "      <td>0</td>\n",
       "      <td>0</td>\n",
       "      <td>0</td>\n",
       "      <td>0</td>\n",
       "      <td>0</td>\n",
       "      <td>0</td>\n",
       "      <td>1</td>\n",
       "      <td>0</td>\n",
       "      <td>0</td>\n",
       "    </tr>\n",
       "    <tr>\n",
       "      <th>9</th>\n",
       "      <td>3100302</td>\n",
       "      <td>13465.0</td>\n",
       "      <td>3100302.0</td>\n",
       "      <td>16.0</td>\n",
       "      <td>3.0</td>\n",
       "      <td>0.0</td>\n",
       "      <td>14987.0</td>\n",
       "      <td>0.0</td>\n",
       "      <td>0</td>\n",
       "      <td>0</td>\n",
       "      <td>...</td>\n",
       "      <td>0</td>\n",
       "      <td>0</td>\n",
       "      <td>0</td>\n",
       "      <td>0</td>\n",
       "      <td>0</td>\n",
       "      <td>0</td>\n",
       "      <td>0</td>\n",
       "      <td>1</td>\n",
       "      <td>0</td>\n",
       "      <td>1</td>\n",
       "    </tr>\n",
       "  </tbody>\n",
       "</table>\n",
       "<p>5 rows × 10511 columns</p>\n",
       "</div>"
      ],
      "text/plain": [
       "   Cod.IBGE  População   COD_IBGE  QUANTIDADE_EMPREGOS  \\\n",
       "2   5200100    19614.0  5200100.0                157.0   \n",
       "3   3100203    23223.0  3100203.0                 16.0   \n",
       "7   4200051     2577.0  4200051.0                  0.0   \n",
       "8   4200101    17847.0  4200101.0                 14.0   \n",
       "9   3100302    13465.0  3100302.0                 16.0   \n",
       "\n",
       "   QUANTIDADE_ ESTABELECIMENTOS  QUANTIDADE_VISITAS_ESTIMADAS_ INTERNACIONAL  \\\n",
       "2                          31.0                                       6752.0   \n",
       "3                           3.0                                        245.0   \n",
       "7                           0.0                                          0.0   \n",
       "8                           4.0                                          0.0   \n",
       "9                           3.0                                          0.0   \n",
       "\n",
       "   QUANTIDADE_VISITAS_ESTIMADAS_ NACIONAL  ARRECADACAO  \\\n",
       "2                                 89930.0     741632.0   \n",
       "3                                  8415.0          0.0   \n",
       "7                                     0.0          0.0   \n",
       "8                                 10515.0          0.0   \n",
       "9                                 14987.0          0.0   \n",
       "\n",
       "   Instituição_Prefeitura Municipal de Abadiânia - GO  \\\n",
       "2                                                  1    \n",
       "3                                                  0    \n",
       "7                                                  0    \n",
       "8                                                  0    \n",
       "9                                                  0    \n",
       "\n",
       "   Instituição_Prefeitura Municipal de Abaeté - MG  ...  \\\n",
       "2                                                0  ...   \n",
       "3                                                1  ...   \n",
       "7                                                0  ...   \n",
       "8                                                0  ...   \n",
       "9                                                0  ...   \n",
       "\n",
       "   REGIAO_TURISTICA_Águas do Oeste  REGIAO_TURISTICA_Águas e Flores Paulista  \\\n",
       "2                                0                                         0   \n",
       "3                                0                                         0   \n",
       "7                                0                                         0   \n",
       "8                                0                                         0   \n",
       "9                                0                                         0   \n",
       "\n",
       "   REGIAO_TURISTICA_Águas e Florestas da Linha do Equador  \\\n",
       "2                                                  0        \n",
       "3                                                  0        \n",
       "7                                                  0        \n",
       "8                                                  0        \n",
       "9                                                  0        \n",
       "\n",
       "   REGIAO_TURISTICA_Águas, Sabores e Saberes  CLUSTER_A  CLUSTER_B  CLUSTER_C  \\\n",
       "2                                          0          0          1          0   \n",
       "3                                          0          0          0          0   \n",
       "7                                          0          0          0          0   \n",
       "8                                          0          0          0          0   \n",
       "9                                          0          0          0          0   \n",
       "\n",
       "   CLUSTER_D  CLUSTER_E  Classificação da CAPAG  \n",
       "2          0          0                       2  \n",
       "3          1          0                       1  \n",
       "7          0          1                       0  \n",
       "8          1          0                       0  \n",
       "9          1          0                       1  \n",
       "\n",
       "[5 rows x 10511 columns]"
      ]
     },
     "execution_count": 25,
     "metadata": {},
     "output_type": "execute_result"
    }
   ],
   "source": [
    "df_tratado = pd.get_dummies(df.drop('Classificação da CAPAG', axis = 1))\n",
    "le = preprocessing.LabelEncoder()\n",
    "df_tratado['Classificação da CAPAG'] = le.fit_transform(df['Classificação da CAPAG'])\n",
    "\n",
    "df_tratado.head()"
   ]
  },
  {
   "cell_type": "markdown",
   "metadata": {},
   "source": [
    "## Separando as amostras em treino e teste"
   ]
  },
  {
   "cell_type": "code",
   "execution_count": 26,
   "metadata": {},
   "outputs": [
    {
     "data": {
      "text/plain": [
       "((1425, 10510), (611, 10510), (1425,), (611,))"
      ]
     },
     "execution_count": 26,
     "metadata": {},
     "output_type": "execute_result"
    }
   ],
   "source": [
    "# selecionando apenas variáveis independentes\n",
    "X = df_tratado.drop('Classificação da CAPAG', axis=1)\n",
    "# selecionando apenas a variável dependente(target)\n",
    "y = df_tratado['Classificação da CAPAG']\n",
    "\n",
    "X_train, X_test, y_train, y_test = train_test_split(X,y, test_size=0.3, random_state=12)# serve para tornar o processo em algo reprodutivo\n",
    "\n",
    "# vendo o shape de cada um dos x(linhas e colunas)\n",
    "X_train.shape, X_test.shape, y_train.shape, y_test.shape"
   ]
  },
  {
   "cell_type": "markdown",
   "metadata": {},
   "source": [
    "## Modelo 1- Logistic Regressor"
   ]
  },
  {
   "cell_type": "code",
   "execution_count": 27,
   "metadata": {},
   "outputs": [],
   "source": [
    "lg = LogisticRegression(random_state=1)"
   ]
  },
  {
   "cell_type": "code",
   "execution_count": 28,
   "metadata": {},
   "outputs": [
    {
     "data": {
      "text/plain": [
       "LogisticRegression(random_state=1)"
      ]
     },
     "execution_count": 28,
     "metadata": {},
     "output_type": "execute_result"
    }
   ],
   "source": [
    "lg.fit(X_train,y_train)"
   ]
  },
  {
   "cell_type": "code",
   "execution_count": 29,
   "metadata": {},
   "outputs": [],
   "source": [
    "y_lg = lg.predict(X_test)"
   ]
  },
  {
   "cell_type": "code",
   "execution_count": 30,
   "metadata": {},
   "outputs": [
    {
     "name": "stdout",
     "output_type": "stream",
     "text": [
      "[[  0   0 127]\n",
      " [  0   3 139]\n",
      " [  0   5 337]]\n",
      "              precision    recall  f1-score   support\n",
      "\n",
      "           0       0.00      0.00      0.00       127\n",
      "           1       0.38      0.02      0.04       142\n",
      "           2       0.56      0.99      0.71       342\n",
      "\n",
      "    accuracy                           0.56       611\n",
      "   macro avg       0.31      0.34      0.25       611\n",
      "weighted avg       0.40      0.56      0.41       611\n",
      "\n"
     ]
    }
   ],
   "source": [
    "print(confusion_matrix(y_test, y_lg))\n",
    "print(classification_report(y_test,y_lg))"
   ]
  },
  {
   "cell_type": "markdown",
   "metadata": {},
   "source": [
    "## Modelo 2- KNN Classifier"
   ]
  },
  {
   "cell_type": "code",
   "execution_count": 31,
   "metadata": {},
   "outputs": [],
   "source": [
    "kn = KNeighborsClassifier()"
   ]
  },
  {
   "cell_type": "code",
   "execution_count": 32,
   "metadata": {},
   "outputs": [
    {
     "data": {
      "text/plain": [
       "KNeighborsClassifier()"
      ]
     },
     "execution_count": 32,
     "metadata": {},
     "output_type": "execute_result"
    }
   ],
   "source": [
    "kn.fit(X_train,y_train)"
   ]
  },
  {
   "cell_type": "code",
   "execution_count": 33,
   "metadata": {},
   "outputs": [],
   "source": [
    "y_kn = kn.predict(X_test)"
   ]
  },
  {
   "cell_type": "code",
   "execution_count": 34,
   "metadata": {},
   "outputs": [
    {
     "name": "stdout",
     "output_type": "stream",
     "text": [
      "[[ 59  21  47]\n",
      " [ 36  25  81]\n",
      " [ 67  53 222]]\n",
      "              precision    recall  f1-score   support\n",
      "\n",
      "           0       0.36      0.46      0.41       127\n",
      "           1       0.25      0.18      0.21       142\n",
      "           2       0.63      0.65      0.64       342\n",
      "\n",
      "    accuracy                           0.50       611\n",
      "   macro avg       0.42      0.43      0.42       611\n",
      "weighted avg       0.49      0.50      0.49       611\n",
      "\n"
     ]
    }
   ],
   "source": [
    "print(confusion_matrix(y_test, y_kn))\n",
    "print(classification_report(y_test,y_kn))"
   ]
  },
  {
   "cell_type": "markdown",
   "metadata": {},
   "source": [
    "## Modelo 3- Random Forest Classifier"
   ]
  },
  {
   "cell_type": "code",
   "execution_count": 35,
   "metadata": {},
   "outputs": [],
   "source": [
    "rf = RandomForestClassifier(random_state=1)"
   ]
  },
  {
   "cell_type": "code",
   "execution_count": 36,
   "metadata": {},
   "outputs": [
    {
     "data": {
      "text/plain": [
       "RandomForestClassifier(random_state=1)"
      ]
     },
     "execution_count": 36,
     "metadata": {},
     "output_type": "execute_result"
    }
   ],
   "source": [
    "rf.fit(X_train,y_train)"
   ]
  },
  {
   "cell_type": "code",
   "execution_count": 37,
   "metadata": {},
   "outputs": [],
   "source": [
    "y_rf = rf.predict(X_test)"
   ]
  },
  {
   "cell_type": "code",
   "execution_count": 38,
   "metadata": {},
   "outputs": [
    {
     "name": "stdout",
     "output_type": "stream",
     "text": [
      "[[123   0   4]\n",
      " [  1 140   1]\n",
      " [  0   0 342]]\n",
      "              precision    recall  f1-score   support\n",
      "\n",
      "           0       0.99      0.97      0.98       127\n",
      "           1       1.00      0.99      0.99       142\n",
      "           2       0.99      1.00      0.99       342\n",
      "\n",
      "    accuracy                           0.99       611\n",
      "   macro avg       0.99      0.98      0.99       611\n",
      "weighted avg       0.99      0.99      0.99       611\n",
      "\n"
     ]
    }
   ],
   "source": [
    "print(confusion_matrix(y_test, y_rf))\n",
    "print(classification_report(y_test,y_rf))"
   ]
  },
  {
   "cell_type": "markdown",
   "metadata": {},
   "source": [
    "### Teste 2 - Modelo Random Forest Classifier\n",
    "### Tentando fugir de um possivel overfiting, usamos o metodo do PCA para o mesmo modelo"
   ]
  },
  {
   "cell_type": "code",
   "execution_count": 39,
   "metadata": {},
   "outputs": [],
   "source": [
    "# X_train\n",
    "pca = PCA(n_components=611)\n",
    "principalComponents = pca.fit_transform(X_train)\n",
    "principalDf = pd.DataFrame(data = principalComponents)\n",
    "\n",
    "# X_test\n",
    "pca = PCA(n_components=611)\n",
    "principalComponents_teste = pca.fit_transform(X_test)\n",
    "principalDf_test = pd.DataFrame(data = principalComponents_teste)"
   ]
  },
  {
   "cell_type": "code",
   "execution_count": 40,
   "metadata": {},
   "outputs": [],
   "source": [
    "rf = RandomForestClassifier(random_state=1)"
   ]
  },
  {
   "cell_type": "code",
   "execution_count": 41,
   "metadata": {},
   "outputs": [
    {
     "data": {
      "text/plain": [
       "RandomForestClassifier(random_state=1)"
      ]
     },
     "execution_count": 41,
     "metadata": {},
     "output_type": "execute_result"
    }
   ],
   "source": [
    "rf.fit(principalDf,y_train)"
   ]
  },
  {
   "cell_type": "code",
   "execution_count": 42,
   "metadata": {},
   "outputs": [],
   "source": [
    "y_rf = rf.predict(principalDf_test)"
   ]
  },
  {
   "cell_type": "code",
   "execution_count": 43,
   "metadata": {},
   "outputs": [
    {
     "name": "stdout",
     "output_type": "stream",
     "text": [
      "[[ 26   0 101]\n",
      " [  7  54  81]\n",
      " [ 12   4 326]]\n",
      "              precision    recall  f1-score   support\n",
      "\n",
      "           0       0.58      0.20      0.30       127\n",
      "           1       0.93      0.38      0.54       142\n",
      "           2       0.64      0.95      0.77       342\n",
      "\n",
      "    accuracy                           0.66       611\n",
      "   macro avg       0.72      0.51      0.54       611\n",
      "weighted avg       0.70      0.66      0.62       611\n",
      "\n"
     ]
    }
   ],
   "source": [
    "print(confusion_matrix(y_test, y_rf))\n",
    "print(classification_report(y_test,y_rf))"
   ]
  },
  {
   "cell_type": "markdown",
   "metadata": {},
   "source": [
    "## Modelo 4- XGBoost Classifier"
   ]
  },
  {
   "cell_type": "code",
   "execution_count": 44,
   "metadata": {},
   "outputs": [],
   "source": [
    "# X_train\n",
    "pca = PCA(n_components=611)\n",
    "principalComponents = pca.fit_transform(X_train)\n",
    "principalDf = pd.DataFrame(data = principalComponents)\n",
    "\n",
    "# X_test\n",
    "pca = PCA(n_components=611)\n",
    "principalComponents_teste = pca.fit_transform(X_test)\n",
    "principalDf_test = pd.DataFrame(data = principalComponents_teste)"
   ]
  },
  {
   "cell_type": "code",
   "execution_count": 45,
   "metadata": {},
   "outputs": [],
   "source": [
    "xg = XGBClassifier()"
   ]
  },
  {
   "cell_type": "code",
   "execution_count": 46,
   "metadata": {},
   "outputs": [
    {
     "name": "stdout",
     "output_type": "stream",
     "text": [
      "[16:32:56] WARNING: C:/Users/Administrator/workspace/xgboost-win64_release_1.4.0/src/learner.cc:1095: Starting in XGBoost 1.3.0, the default evaluation metric used with the objective 'multi:softprob' was changed from 'merror' to 'mlogloss'. Explicitly set eval_metric if you'd like to restore the old behavior.\n"
     ]
    },
    {
     "data": {
      "text/plain": [
       "XGBClassifier(base_score=0.5, booster='gbtree', colsample_bylevel=1,\n",
       "              colsample_bynode=1, colsample_bytree=1, gamma=0, gpu_id=-1,\n",
       "              importance_type='gain', interaction_constraints='',\n",
       "              learning_rate=0.300000012, max_delta_step=0, max_depth=6,\n",
       "              min_child_weight=1, missing=nan, monotone_constraints='()',\n",
       "              n_estimators=100, n_jobs=4, num_parallel_tree=1,\n",
       "              objective='multi:softprob', random_state=0, reg_alpha=0,\n",
       "              reg_lambda=1, scale_pos_weight=None, subsample=1,\n",
       "              tree_method='exact', validate_parameters=1, verbosity=None)"
      ]
     },
     "execution_count": 46,
     "metadata": {},
     "output_type": "execute_result"
    }
   ],
   "source": [
    "xg.fit(principalDf, y_train)"
   ]
  },
  {
   "cell_type": "code",
   "execution_count": 47,
   "metadata": {},
   "outputs": [],
   "source": [
    "y_xg = xg.predict(principalDf_test)"
   ]
  },
  {
   "cell_type": "code",
   "execution_count": 48,
   "metadata": {},
   "outputs": [
    {
     "name": "stdout",
     "output_type": "stream",
     "text": [
      "[[ 71   0  56]\n",
      " [  1 135   6]\n",
      " [ 19  23 300]]\n",
      "              precision    recall  f1-score   support\n",
      "\n",
      "           0       0.78      0.56      0.65       127\n",
      "           1       0.85      0.95      0.90       142\n",
      "           2       0.83      0.88      0.85       342\n",
      "\n",
      "    accuracy                           0.83       611\n",
      "   macro avg       0.82      0.80      0.80       611\n",
      "weighted avg       0.82      0.83      0.82       611\n",
      "\n"
     ]
    }
   ],
   "source": [
    "print(confusion_matrix(y_test, y_xg))\n",
    "print(classification_report(y_test,y_xg))"
   ]
  }
 ],
 "metadata": {
  "kernelspec": {
   "display_name": "Python 3",
   "language": "python",
   "name": "python3"
  },
  "language_info": {
   "codemirror_mode": {
    "name": "ipython",
    "version": 3
   },
   "file_extension": ".py",
   "mimetype": "text/x-python",
   "name": "python",
   "nbconvert_exporter": "python",
   "pygments_lexer": "ipython3",
   "version": "3.8.5"
  }
 },
 "nbformat": 4,
 "nbformat_minor": 5
}
