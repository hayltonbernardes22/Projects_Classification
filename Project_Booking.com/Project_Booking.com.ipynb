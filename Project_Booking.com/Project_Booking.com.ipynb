{
 "cells": [
  {
   "cell_type": "markdown",
   "metadata": {},
   "source": [
    "# Challenge Deep Learning\n",
    "\n",
    "> De a cordo com os a base de dados do site de reservas de hotel Booking.com, foi fornecido um dataset que possui 119390 de linha e 32 colunas, com base nisso foi solicitado para se utilizar alguns modelos de Machine learning e Deep learning a fim de prever se o cliente vai finalizar ou cancelar a reserva.\n",
    "\n",
    "<hr>"
   ]
  },
  {
   "cell_type": "markdown",
   "metadata": {},
   "source": [
    "<img src=\"https://ateondeeupuderir.com/wp-content/uploads/2019/07/como-funciona-o-booking.com_-820x394.png\">"
   ]
  },
  {
   "cell_type": "markdown",
   "metadata": {},
   "source": [
    "<br>\n",
    "<br>"
   ]
  },
  {
   "cell_type": "markdown",
   "metadata": {},
   "source": [
    "# Importando as Libs"
   ]
  },
  {
   "cell_type": "code",
   "execution_count": 1,
   "metadata": {},
   "outputs": [
    {
     "name": "stdout",
     "output_type": "stream",
     "text": [
      "\u001b[1mTeste!\u001b[0m\n"
     ]
    }
   ],
   "source": [
    "import numpy as np\n",
    "import pandas as pd \n",
    "import seaborn as sns\n",
    "import matplotlib.pyplot as plt\n",
    "import warnings\n",
    "\n",
    "import tensorflow as tf\n",
    "from tensorflow import keras\n",
    "\n",
    "from sklearn.svm import SVC\n",
    "from sklearn.preprocessing import StandardScaler, LabelEncoder\n",
    "from sklearn.ensemble import RandomForestClassifier\n",
    "from sklearn.model_selection import train_test_split\n",
    "from sklearn.metrics import classification_report, confusion_matrix, r2_score\n",
    "from imblearn.under_sampling import NearMiss\n",
    "\n",
    "%matplotlib inline\n",
    "\n",
    "class color: # para formatar os prints\n",
    "   PURPLE = '\\033[95m'\n",
    "   CYAN = '\\033[96m'\n",
    "   DARKCYAN = '\\033[36m'\n",
    "   BLUE = '\\033[94m'\n",
    "   YELLOW = '\\033[93m'\n",
    "   RED = '\\033[91m'\n",
    "   BOLD = '\\033[1m'\n",
    "   UNDERLINE = '\\033[4m'\n",
    "   END = '\\033[0m'\n",
    "\n",
    "print(color.BOLD + 'Teste!' + color.END)"
   ]
  },
  {
   "cell_type": "markdown",
   "metadata": {},
   "source": [
    "# Importando o Data Set"
   ]
  },
  {
   "cell_type": "code",
   "execution_count": 2,
   "metadata": {},
   "outputs": [
    {
     "data": {
      "text/html": [
       "<div>\n",
       "<style scoped>\n",
       "    .dataframe tbody tr th:only-of-type {\n",
       "        vertical-align: middle;\n",
       "    }\n",
       "\n",
       "    .dataframe tbody tr th {\n",
       "        vertical-align: top;\n",
       "    }\n",
       "\n",
       "    .dataframe thead th {\n",
       "        text-align: right;\n",
       "    }\n",
       "</style>\n",
       "<table border=\"1\" class=\"dataframe\">\n",
       "  <thead>\n",
       "    <tr style=\"text-align: right;\">\n",
       "      <th></th>\n",
       "      <th>hotel</th>\n",
       "      <th>is_canceled</th>\n",
       "      <th>lead_time</th>\n",
       "      <th>arrival_date_year</th>\n",
       "      <th>arrival_date_month</th>\n",
       "      <th>arrival_date_week_number</th>\n",
       "      <th>arrival_date_day_of_month</th>\n",
       "      <th>stays_in_weekend_nights</th>\n",
       "      <th>stays_in_week_nights</th>\n",
       "      <th>adults</th>\n",
       "      <th>...</th>\n",
       "      <th>deposit_type</th>\n",
       "      <th>agent</th>\n",
       "      <th>company</th>\n",
       "      <th>days_in_waiting_list</th>\n",
       "      <th>customer_type</th>\n",
       "      <th>adr</th>\n",
       "      <th>required_car_parking_spaces</th>\n",
       "      <th>total_of_special_requests</th>\n",
       "      <th>reservation_status</th>\n",
       "      <th>reservation_status_date</th>\n",
       "    </tr>\n",
       "  </thead>\n",
       "  <tbody>\n",
       "    <tr>\n",
       "      <th>0</th>\n",
       "      <td>Resort Hotel</td>\n",
       "      <td>0</td>\n",
       "      <td>342</td>\n",
       "      <td>2015</td>\n",
       "      <td>July</td>\n",
       "      <td>27</td>\n",
       "      <td>1</td>\n",
       "      <td>0</td>\n",
       "      <td>0</td>\n",
       "      <td>2</td>\n",
       "      <td>...</td>\n",
       "      <td>No Deposit</td>\n",
       "      <td>NaN</td>\n",
       "      <td>NaN</td>\n",
       "      <td>0</td>\n",
       "      <td>Transient</td>\n",
       "      <td>0.0</td>\n",
       "      <td>0</td>\n",
       "      <td>0</td>\n",
       "      <td>Check-Out</td>\n",
       "      <td>2015-07-01</td>\n",
       "    </tr>\n",
       "    <tr>\n",
       "      <th>1</th>\n",
       "      <td>Resort Hotel</td>\n",
       "      <td>0</td>\n",
       "      <td>737</td>\n",
       "      <td>2015</td>\n",
       "      <td>July</td>\n",
       "      <td>27</td>\n",
       "      <td>1</td>\n",
       "      <td>0</td>\n",
       "      <td>0</td>\n",
       "      <td>2</td>\n",
       "      <td>...</td>\n",
       "      <td>No Deposit</td>\n",
       "      <td>NaN</td>\n",
       "      <td>NaN</td>\n",
       "      <td>0</td>\n",
       "      <td>Transient</td>\n",
       "      <td>0.0</td>\n",
       "      <td>0</td>\n",
       "      <td>0</td>\n",
       "      <td>Check-Out</td>\n",
       "      <td>2015-07-01</td>\n",
       "    </tr>\n",
       "    <tr>\n",
       "      <th>2</th>\n",
       "      <td>Resort Hotel</td>\n",
       "      <td>0</td>\n",
       "      <td>7</td>\n",
       "      <td>2015</td>\n",
       "      <td>July</td>\n",
       "      <td>27</td>\n",
       "      <td>1</td>\n",
       "      <td>0</td>\n",
       "      <td>1</td>\n",
       "      <td>1</td>\n",
       "      <td>...</td>\n",
       "      <td>No Deposit</td>\n",
       "      <td>NaN</td>\n",
       "      <td>NaN</td>\n",
       "      <td>0</td>\n",
       "      <td>Transient</td>\n",
       "      <td>75.0</td>\n",
       "      <td>0</td>\n",
       "      <td>0</td>\n",
       "      <td>Check-Out</td>\n",
       "      <td>2015-07-02</td>\n",
       "    </tr>\n",
       "    <tr>\n",
       "      <th>3</th>\n",
       "      <td>Resort Hotel</td>\n",
       "      <td>0</td>\n",
       "      <td>13</td>\n",
       "      <td>2015</td>\n",
       "      <td>July</td>\n",
       "      <td>27</td>\n",
       "      <td>1</td>\n",
       "      <td>0</td>\n",
       "      <td>1</td>\n",
       "      <td>1</td>\n",
       "      <td>...</td>\n",
       "      <td>No Deposit</td>\n",
       "      <td>304.0</td>\n",
       "      <td>NaN</td>\n",
       "      <td>0</td>\n",
       "      <td>Transient</td>\n",
       "      <td>75.0</td>\n",
       "      <td>0</td>\n",
       "      <td>0</td>\n",
       "      <td>Check-Out</td>\n",
       "      <td>2015-07-02</td>\n",
       "    </tr>\n",
       "    <tr>\n",
       "      <th>4</th>\n",
       "      <td>Resort Hotel</td>\n",
       "      <td>0</td>\n",
       "      <td>14</td>\n",
       "      <td>2015</td>\n",
       "      <td>July</td>\n",
       "      <td>27</td>\n",
       "      <td>1</td>\n",
       "      <td>0</td>\n",
       "      <td>2</td>\n",
       "      <td>2</td>\n",
       "      <td>...</td>\n",
       "      <td>No Deposit</td>\n",
       "      <td>240.0</td>\n",
       "      <td>NaN</td>\n",
       "      <td>0</td>\n",
       "      <td>Transient</td>\n",
       "      <td>98.0</td>\n",
       "      <td>0</td>\n",
       "      <td>1</td>\n",
       "      <td>Check-Out</td>\n",
       "      <td>2015-07-03</td>\n",
       "    </tr>\n",
       "  </tbody>\n",
       "</table>\n",
       "<p>5 rows × 32 columns</p>\n",
       "</div>"
      ],
      "text/plain": [
       "          hotel  is_canceled  lead_time  arrival_date_year arrival_date_month  \\\n",
       "0  Resort Hotel            0        342               2015               July   \n",
       "1  Resort Hotel            0        737               2015               July   \n",
       "2  Resort Hotel            0          7               2015               July   \n",
       "3  Resort Hotel            0         13               2015               July   \n",
       "4  Resort Hotel            0         14               2015               July   \n",
       "\n",
       "   arrival_date_week_number  arrival_date_day_of_month  \\\n",
       "0                        27                          1   \n",
       "1                        27                          1   \n",
       "2                        27                          1   \n",
       "3                        27                          1   \n",
       "4                        27                          1   \n",
       "\n",
       "   stays_in_weekend_nights  stays_in_week_nights  adults  ...  deposit_type  \\\n",
       "0                        0                     0       2  ...    No Deposit   \n",
       "1                        0                     0       2  ...    No Deposit   \n",
       "2                        0                     1       1  ...    No Deposit   \n",
       "3                        0                     1       1  ...    No Deposit   \n",
       "4                        0                     2       2  ...    No Deposit   \n",
       "\n",
       "   agent company days_in_waiting_list customer_type   adr  \\\n",
       "0    NaN     NaN                    0     Transient   0.0   \n",
       "1    NaN     NaN                    0     Transient   0.0   \n",
       "2    NaN     NaN                    0     Transient  75.0   \n",
       "3  304.0     NaN                    0     Transient  75.0   \n",
       "4  240.0     NaN                    0     Transient  98.0   \n",
       "\n",
       "   required_car_parking_spaces  total_of_special_requests  reservation_status  \\\n",
       "0                            0                          0           Check-Out   \n",
       "1                            0                          0           Check-Out   \n",
       "2                            0                          0           Check-Out   \n",
       "3                            0                          0           Check-Out   \n",
       "4                            0                          1           Check-Out   \n",
       "\n",
       "  reservation_status_date  \n",
       "0              2015-07-01  \n",
       "1              2015-07-01  \n",
       "2              2015-07-02  \n",
       "3              2015-07-02  \n",
       "4              2015-07-03  \n",
       "\n",
       "[5 rows x 32 columns]"
      ]
     },
     "execution_count": 2,
     "metadata": {},
     "output_type": "execute_result"
    }
   ],
   "source": [
    "df = pd.read_csv('hotel_bookings.csv', delimiter = ',')\n",
    "df.head()"
   ]
  },
  {
   "cell_type": "code",
   "execution_count": 3,
   "metadata": {
    "scrolled": true
   },
   "outputs": [
    {
     "data": {
      "text/plain": [
       "(119390, 32)"
      ]
     },
     "execution_count": 3,
     "metadata": {},
     "output_type": "execute_result"
    }
   ],
   "source": [
    "df.shape"
   ]
  },
  {
   "cell_type": "code",
   "execution_count": 4,
   "metadata": {},
   "outputs": [
    {
     "name": "stdout",
     "output_type": "stream",
     "text": [
      "hotel                                  0\n",
      "is_canceled                            0\n",
      "lead_time                              0\n",
      "arrival_date_year                      0\n",
      "arrival_date_month                     0\n",
      "arrival_date_week_number               0\n",
      "arrival_date_day_of_month              0\n",
      "stays_in_weekend_nights                0\n",
      "stays_in_week_nights                   0\n",
      "adults                                 0\n",
      "children                               4\n",
      "babies                                 0\n",
      "meal                                   0\n",
      "country                              488\n",
      "market_segment                         0\n",
      "distribution_channel                   0\n",
      "is_repeated_guest                      0\n",
      "previous_cancellations                 0\n",
      "previous_bookings_not_canceled         0\n",
      "reserved_room_type                     0\n",
      "assigned_room_type                     0\n",
      "booking_changes                        0\n",
      "deposit_type                           0\n",
      "agent                              16340\n",
      "company                           112593\n",
      "days_in_waiting_list                   0\n",
      "customer_type                          0\n",
      "adr                                    0\n",
      "required_car_parking_spaces            0\n",
      "total_of_special_requests              0\n",
      "reservation_status                     0\n",
      "reservation_status_date                0\n",
      "dtype: int64\n"
     ]
    }
   ],
   "source": [
    "print(pd.isnull(df).sum())"
   ]
  },
  {
   "cell_type": "code",
   "execution_count": 5,
   "metadata": {},
   "outputs": [],
   "source": [
    "df.drop(['country', 'reserved_room_type', 'assigned_room_type', 'reservation_status_date', 'company'], axis = 1, inplace = True)"
   ]
  },
  {
   "cell_type": "code",
   "execution_count": 6,
   "metadata": {},
   "outputs": [],
   "source": [
    "df.dropna(axis = 0, inplace = True)"
   ]
  },
  {
   "cell_type": "code",
   "execution_count": 7,
   "metadata": {},
   "outputs": [
    {
     "name": "stdout",
     "output_type": "stream",
     "text": [
      "hotel                             0\n",
      "is_canceled                       0\n",
      "lead_time                         0\n",
      "arrival_date_year                 0\n",
      "arrival_date_month                0\n",
      "arrival_date_week_number          0\n",
      "arrival_date_day_of_month         0\n",
      "stays_in_weekend_nights           0\n",
      "stays_in_week_nights              0\n",
      "adults                            0\n",
      "children                          0\n",
      "babies                            0\n",
      "meal                              0\n",
      "market_segment                    0\n",
      "distribution_channel              0\n",
      "is_repeated_guest                 0\n",
      "previous_cancellations            0\n",
      "previous_bookings_not_canceled    0\n",
      "booking_changes                   0\n",
      "deposit_type                      0\n",
      "agent                             0\n",
      "days_in_waiting_list              0\n",
      "customer_type                     0\n",
      "adr                               0\n",
      "required_car_parking_spaces       0\n",
      "total_of_special_requests         0\n",
      "reservation_status                0\n",
      "dtype: int64\n"
     ]
    }
   ],
   "source": [
    "print(pd.isnull(df).sum())"
   ]
  },
  {
   "cell_type": "code",
   "execution_count": 8,
   "metadata": {},
   "outputs": [],
   "source": [
    "# categóricas e numéricas \n",
    "cat_cols = df.select_dtypes(include=\"object\").columns\n",
    "num_cols = df.select_dtypes(exclude=\"object\").columns\n",
    "\n",
    "\n",
    "# dummies \n",
    "dummies = pd.get_dummies(df[cat_cols], prefix=cat_cols, drop_first=True)\n",
    "df = pd.concat([df, dummies], axis=1)\n",
    "df.drop(cat_cols, axis=1, inplace=True)"
   ]
  },
  {
   "cell_type": "code",
   "execution_count": 9,
   "metadata": {},
   "outputs": [
    {
     "data": {
      "text/plain": [
       "((72133, 50), (30915, 50), (72133,), (30915,))"
      ]
     },
     "execution_count": 9,
     "metadata": {},
     "output_type": "execute_result"
    }
   ],
   "source": [
    "# selecionando apenas variáveis independentes\n",
    "X = df.drop('is_canceled', axis=1)\n",
    "# selecionando apenas a variável dependente(target)\n",
    "y = df['is_canceled']\n",
    "\n",
    "\n",
    "label = LabelEncoder()\n",
    "y = label.fit_transform(y)\n",
    "\n",
    "\n",
    "\n",
    "X_train, X_test, y_train, y_test = train_test_split(X,y, test_size=0.3, random_state=12)# serve para tornar o processo em algo reprodutivo\n",
    "\n",
    "# vendo o shape de cada um dos x(linhas e colunas)\n",
    "X_train.shape, X_test.shape, y_train.shape, y_test.shape"
   ]
  },
  {
   "cell_type": "code",
   "execution_count": 10,
   "metadata": {},
   "outputs": [
    {
     "data": {
      "text/plain": [
       "array([62856, 40192], dtype=int64)"
      ]
     },
     "execution_count": 10,
     "metadata": {},
     "output_type": "execute_result"
    }
   ],
   "source": [
    "np.bincount(y)"
   ]
  },
  {
   "cell_type": "code",
   "execution_count": 11,
   "metadata": {},
   "outputs": [],
   "source": [
    "scaler = StandardScaler()\n",
    "\n",
    "X_train = scaler.fit_transform(X_train)\n",
    "X_test = scaler.transform(X_test)"
   ]
  },
  {
   "cell_type": "code",
   "execution_count": 12,
   "metadata": {},
   "outputs": [
    {
     "data": {
      "text/plain": [
       "(103048, 51)"
      ]
     },
     "execution_count": 12,
     "metadata": {},
     "output_type": "execute_result"
    }
   ],
   "source": [
    "df.shape"
   ]
  },
  {
   "cell_type": "markdown",
   "metadata": {},
   "source": [
    "<br>\n",
    "\n",
    "## Modelos de Machine Learning"
   ]
  },
  {
   "cell_type": "markdown",
   "metadata": {},
   "source": [
    "<br>\n",
    "\n",
    "### SVM Classifier\n",
    "\n",
    "<br>"
   ]
  },
  {
   "cell_type": "code",
   "execution_count": 13,
   "metadata": {},
   "outputs": [],
   "source": [
    "model_svm = SVC(C = 0.5, random_state = 42)"
   ]
  },
  {
   "cell_type": "code",
   "execution_count": 14,
   "metadata": {},
   "outputs": [
    {
     "data": {
      "text/plain": [
       "SVC(C=0.5, random_state=42)"
      ]
     },
     "execution_count": 14,
     "metadata": {},
     "output_type": "execute_result"
    }
   ],
   "source": [
    "model_svm.fit(X_train,y_train)"
   ]
  },
  {
   "cell_type": "code",
   "execution_count": 15,
   "metadata": {},
   "outputs": [],
   "source": [
    "y_pred_svm = model_svm.predict(X_test)"
   ]
  },
  {
   "cell_type": "code",
   "execution_count": 16,
   "metadata": {},
   "outputs": [
    {
     "name": "stdout",
     "output_type": "stream",
     "text": [
      "              precision    recall  f1-score   support\n",
      "\n",
      "           0       1.00      1.00      1.00     18991\n",
      "           1       1.00      1.00      1.00     11924\n",
      "\n",
      "    accuracy                           1.00     30915\n",
      "   macro avg       1.00      1.00      1.00     30915\n",
      "weighted avg       1.00      1.00      1.00     30915\n",
      "\n"
     ]
    }
   ],
   "source": [
    "print(classification_report(y_test,y_pred_svm))"
   ]
  },
  {
   "cell_type": "markdown",
   "metadata": {},
   "source": [
    "<br>\n",
    "\n",
    "### Random Forest Classifier\n",
    "\n",
    "<br>"
   ]
  },
  {
   "cell_type": "code",
   "execution_count": 17,
   "metadata": {},
   "outputs": [
    {
     "data": {
      "text/plain": [
       "<AxesSubplot:ylabel='count'>"
      ]
     },
     "execution_count": 17,
     "metadata": {},
     "output_type": "execute_result"
    },
    {
     "data": {
      "image/png": "[encoded data removed]",
      "text/plain": [
       "<Figure size 432x288 with 1 Axes>"
      ]
     },
     "metadata": {
      "needs_background": "light"
     },
     "output_type": "display_data"
    }
   ],
   "source": [
    "sns.countplot(x=y)"
   ]
  },
  {
   "cell_type": "code",
   "execution_count": 18,
   "metadata": {},
   "outputs": [],
   "source": [
    "model_rf = RandomForestClassifier(random_state = 24)"
   ]
  },
  {
   "cell_type": "code",
   "execution_count": 19,
   "metadata": {},
   "outputs": [
    {
     "data": {
      "text/plain": [
       "RandomForestClassifier(random_state=24)"
      ]
     },
     "execution_count": 19,
     "metadata": {},
     "output_type": "execute_result"
    }
   ],
   "source": [
    "model_rf.fit(X_train,y_train)"
   ]
  },
  {
   "cell_type": "code",
   "execution_count": 20,
   "metadata": {},
   "outputs": [],
   "source": [
    "y_pred_rf = model_rf.predict(X_test)"
   ]
  },
  {
   "cell_type": "code",
   "execution_count": 21,
   "metadata": {},
   "outputs": [
    {
     "name": "stdout",
     "output_type": "stream",
     "text": [
      "              precision    recall  f1-score   support\n",
      "\n",
      "           0       1.00      1.00      1.00     18991\n",
      "           1       1.00      1.00      1.00     11924\n",
      "\n",
      "    accuracy                           1.00     30915\n",
      "   macro avg       1.00      1.00      1.00     30915\n",
      "weighted avg       1.00      1.00      1.00     30915\n",
      "\n"
     ]
    }
   ],
   "source": [
    "print(classification_report(y_test,y_pred_rf))"
   ]
  },
  {
   "cell_type": "markdown",
   "metadata": {},
   "source": [
    "<br>\n",
    "\n",
    "### 2ª tentativa do Random Forest Classifier com Undersampling\n",
    "\n",
    "<br>"
   ]
  },
  {
   "cell_type": "code",
   "execution_count": 22,
   "metadata": {},
   "outputs": [],
   "source": [
    "# Undersampling\n",
    "under = NearMiss()\n",
    "\n",
    "X = df.drop('is_canceled',axis=1)\n",
    "y = df['is_canceled']\n",
    "X_under,y_under = under.fit_resample(X,y)\n",
    "\n",
    "X_train_u,X_test_u, y_train_u,y_test_u = train_test_split(X_under,y_under,test_size=0.3, random_state = 42) # split"
   ]
  },
  {
   "cell_type": "code",
   "execution_count": 23,
   "metadata": {},
   "outputs": [
    {
     "data": {
      "text/plain": [
       "<AxesSubplot:xlabel='is_canceled', ylabel='count'>"
      ]
     },
     "execution_count": 23,
     "metadata": {},
     "output_type": "execute_result"
    },
    {
     "data": {
      "image/png": "[encoded data removed]",
      "text/plain": [
       "<Figure size 432x288 with 1 Axes>"
      ]
     },
     "metadata": {
      "needs_background": "light"
     },
     "output_type": "display_data"
    }
   ],
   "source": [
    "sns.countplot(x=y_under)"
   ]
  },
  {
   "cell_type": "code",
   "execution_count": 24,
   "metadata": {},
   "outputs": [
    {
     "name": "stdout",
     "output_type": "stream",
     "text": [
      "              precision    recall  f1-score   support\n",
      "\n",
      "           0       1.00      1.00      1.00     12059\n",
      "           1       1.00      1.00      1.00     12057\n",
      "\n",
      "    accuracy                           1.00     24116\n",
      "   macro avg       1.00      1.00      1.00     24116\n",
      "weighted avg       1.00      1.00      1.00     24116\n",
      " None\n"
     ]
    }
   ],
   "source": [
    "model_rf_2 = RandomForestClassifier(random_state = 24)\n",
    "model_rf_2.fit(X_train_u,y_train_u)\n",
    "y_pred_rf = model_rf_2.predict(X_test_u)\n",
    "print(classification_report(y_test_u,y_pred_rf), warnings.filterwarnings(\"ignore\"))"
   ]
  },
  {
   "cell_type": "markdown",
   "metadata": {},
   "source": [
    "<br>\n",
    "\n",
    "### 3ª tentativa do Random Forest Classifier com Oversampling\n",
    "\n",
    "<br>"
   ]
  },
  {
   "cell_type": "code",
   "execution_count": 25,
   "metadata": {},
   "outputs": [],
   "source": [
    "from imblearn.over_sampling import SMOTE\n",
    "\n",
    "over = SMOTE(random_state=482)\n",
    "\n",
    "X = df.drop('is_canceled',axis=1)\n",
    "y = df['is_canceled']\n",
    "\n",
    "X_over,y_over = over.fit_resample(X,y)\n",
    "\n",
    "X_train_o,X_test_o, y_train_o,y_test_o = train_test_split(X_over,y_over,test_size=0.3,random_state=102) # split"
   ]
  },
  {
   "cell_type": "code",
   "execution_count": 26,
   "metadata": {},
   "outputs": [
    {
     "data": {
      "text/plain": [
       "<AxesSubplot:xlabel='is_canceled', ylabel='count'>"
      ]
     },
     "execution_count": 26,
     "metadata": {},
     "output_type": "execute_result"
    },
    {
     "data": {
      "image/png": "[encoded data removed]",
      "text/plain": [
       "<Figure size 432x288 with 1 Axes>"
      ]
     },
     "metadata": {
      "needs_background": "light"
     },
     "output_type": "display_data"
    }
   ],
   "source": [
    "sns.countplot(x=y_over)"
   ]
  },
  {
   "cell_type": "code",
   "execution_count": 27,
   "metadata": {},
   "outputs": [
    {
     "name": "stdout",
     "output_type": "stream",
     "text": [
      "              precision    recall  f1-score   support\n",
      "\n",
      "           0       1.00      1.00      1.00     18826\n",
      "           1       1.00      1.00      1.00     18888\n",
      "\n",
      "    accuracy                           1.00     37714\n",
      "   macro avg       1.00      1.00      1.00     37714\n",
      "weighted avg       1.00      1.00      1.00     37714\n",
      " None\n"
     ]
    }
   ],
   "source": [
    "model_rf_3 = RandomForestClassifier(random_state = 24)\n",
    "model_rf_3.fit(X_train_o,y_train_o)\n",
    "y_pred_rf = model_rf_3.predict(X_test_o)\n",
    "print(classification_report(y_test_o,y_pred_rf), warnings.filterwarnings(\"ignore\"))"
   ]
  },
  {
   "cell_type": "markdown",
   "metadata": {},
   "source": [
    "<br>\n",
    "\n",
    "### Detectando as variáveis com melhor correlação com a target e aplicando o Undersampling\n",
    "\n",
    "<br>"
   ]
  },
  {
   "cell_type": "code",
   "execution_count": 28,
   "metadata": {},
   "outputs": [],
   "source": [
    "from sklearn.decomposition import PCA\n",
    "\n",
    "# Rodar o PCA (pegar as 'x' principais colunas)\n",
    "pca = PCA(n_components=10, random_state=12)\n",
    "\n",
    "df_colunas = pca.fit_transform(X)\n",
    "\n",
    "X_pca = pd.DataFrame(df_colunas)"
   ]
  },
  {
   "cell_type": "code",
   "execution_count": 29,
   "metadata": {},
   "outputs": [],
   "source": [
    "# Undersampling\n",
    "under = NearMiss()\n",
    "\n",
    "X_under_pca,y_under_pca = under.fit_resample(X_pca,y)\n",
    "\n",
    "X_train_u_pca,X_test_u_pca, y_train_u_pca,y_test_u_pca = train_test_split(X_under_pca,y_under_pca,test_size=0.3, random_state = 42) # split"
   ]
  },
  {
   "cell_type": "code",
   "execution_count": 30,
   "metadata": {},
   "outputs": [
    {
     "data": {
      "text/plain": [
       "<AxesSubplot:xlabel='is_canceled', ylabel='count'>"
      ]
     },
     "execution_count": 30,
     "metadata": {},
     "output_type": "execute_result"
    },
    {
     "data": {
      "image/png": "[encoded data removed]",
      "text/plain": [
       "<Figure size 432x288 with 1 Axes>"
      ]
     },
     "metadata": {
      "needs_background": "light"
     },
     "output_type": "display_data"
    }
   ],
   "source": [
    "sns.countplot(x=y_under_pca)"
   ]
  },
  {
   "cell_type": "code",
   "execution_count": 31,
   "metadata": {},
   "outputs": [
    {
     "name": "stdout",
     "output_type": "stream",
     "text": [
      "              precision    recall  f1-score   support\n",
      "\n",
      "           0       0.84      0.91      0.87     12059\n",
      "           1       0.90      0.83      0.86     12057\n",
      "\n",
      "    accuracy                           0.87     24116\n",
      "   macro avg       0.87      0.87      0.87     24116\n",
      "weighted avg       0.87      0.87      0.87     24116\n",
      " None\n"
     ]
    }
   ],
   "source": [
    "model_rf_4 = RandomForestClassifier(random_state = 24)\n",
    "model_rf_4.fit(X_train_u_pca,y_train_u_pca)\n",
    "y_pred_rf = model_rf_4.predict(X_test_u_pca)\n",
    "print(classification_report(y_test_u_pca,y_pred_rf), warnings.filterwarnings(\"ignore\"))"
   ]
  },
  {
   "cell_type": "markdown",
   "metadata": {},
   "source": [
    "<br>\n",
    "\n",
    "## Redes Neurais \n",
    "\n",
    "<br>"
   ]
  },
  {
   "cell_type": "markdown",
   "metadata": {},
   "source": [
    "### 1ª Rede Neural - FeedForward"
   ]
  },
  {
   "cell_type": "code",
   "execution_count": 32,
   "metadata": {},
   "outputs": [],
   "source": [
    "from tensorflow.keras.utils import plot_model"
   ]
  },
  {
   "cell_type": "code",
   "execution_count": 33,
   "metadata": {},
   "outputs": [
    {
     "data": {
      "text/plain": [
       "50"
      ]
     },
     "execution_count": 33,
     "metadata": {},
     "output_type": "execute_result"
    }
   ],
   "source": [
    "X_train.shape[1]"
   ]
  },
  {
   "cell_type": "code",
   "execution_count": 34,
   "metadata": {},
   "outputs": [
    {
     "name": "stdout",
     "output_type": "stream",
     "text": [
      "WARNING:tensorflow:Please add `keras.layers.InputLayer` instead of `keras.Input` to Sequential model. `keras.Input` is intended to be used by Functional model.\n"
     ]
    }
   ],
   "source": [
    "neural_network = tf.keras.models.Sequential([tf.keras.layers.Input(shape=X_train.shape[1]),\n",
    "                                            tf.keras.layers.Dense(units=30, activation='relu'),\n",
    "                                            tf.keras.layers.Dropout(0.50),\n",
    "                                            tf.keras.layers.Dense(units=10),\n",
    "                                            tf.keras.layers.Dense(units=1, activation='sigmoid')])\n",
    "\n",
    "neural_network.compile(optimizer=\"SGD\",\n",
    "                      loss=\"binary_crossentropy\",\n",
    "                      metrics=['accuracy'])"
   ]
  },
  {
   "cell_type": "code",
   "execution_count": 35,
   "metadata": {},
   "outputs": [
    {
     "name": "stdout",
     "output_type": "stream",
     "text": [
      "Model: \"sequential\"\n",
      "_________________________________________________________________\n",
      "Layer (type)                 Output Shape              Param #   \n",
      "=================================================================\n",
      "dense (Dense)                (None, 30)                1530      \n",
      "_________________________________________________________________\n",
      "dropout (Dropout)            (None, 30)                0         \n",
      "_________________________________________________________________\n",
      "dense_1 (Dense)              (None, 10)                310       \n",
      "_________________________________________________________________\n",
      "dense_2 (Dense)              (None, 1)                 11        \n",
      "=================================================================\n",
      "Total params: 1,851\n",
      "Trainable params: 1,851\n",
      "Non-trainable params: 0\n",
      "_________________________________________________________________\n"
     ]
    }
   ],
   "source": [
    "neural_network.summary()"
   ]
  },
  {
   "cell_type": "code",
   "execution_count": 36,
   "metadata": {},
   "outputs": [
    {
     "name": "stdout",
     "output_type": "stream",
     "text": [
      "Epoch 1/10\n",
      "2255/2255 [==============================] - 2s 808us/step - loss: 0.1850 - accuracy: 0.9278 - val_loss: 0.0046 - val_accuracy: 0.9995\n",
      "Epoch 2/10\n",
      "2255/2255 [==============================] - 2s 777us/step - loss: 0.0311 - accuracy: 0.9912 - val_loss: 0.0017 - val_accuracy: 0.9998\n",
      "Epoch 3/10\n",
      "2255/2255 [==============================] - 2s 696us/step - loss: 0.0168 - accuracy: 0.9955 - val_loss: 3.3287e-04 - val_accuracy: 1.0000\n",
      "Epoch 4/10\n",
      "2255/2255 [==============================] - 2s 744us/step - loss: 0.0121 - accuracy: 0.9966 - val_loss: 4.0746e-04 - val_accuracy: 0.9999\n",
      "Epoch 5/10\n",
      "2255/2255 [==============================] - 2s 707us/step - loss: 0.0088 - accuracy: 0.9978 - val_loss: 2.4751e-04 - val_accuracy: 1.0000\n",
      "Epoch 6/10\n",
      "2255/2255 [==============================] - 2s 740us/step - loss: 0.0061 - accuracy: 0.9983 - val_loss: 3.2297e-04 - val_accuracy: 0.9999\n",
      "Epoch 7/10\n",
      "2255/2255 [==============================] - 2s 834us/step - loss: 0.0058 - accuracy: 0.9982 - val_loss: 1.9541e-04 - val_accuracy: 1.0000\n",
      "Epoch 8/10\n",
      "2255/2255 [==============================] - 2s 769us/step - loss: 0.0047 - accuracy: 0.9986 - val_loss: 2.2699e-04 - val_accuracy: 1.0000\n",
      "Epoch 9/10\n",
      "2255/2255 [==============================] - 2s 780us/step - loss: 0.0045 - accuracy: 0.9988 - val_loss: 2.3462e-04 - val_accuracy: 1.0000\n",
      "Epoch 10/10\n",
      "2255/2255 [==============================] - 2s 735us/step - loss: 0.0041 - accuracy: 0.9986 - val_loss: 1.8156e-04 - val_accuracy: 1.0000\n"
     ]
    },
    {
     "data": {
      "text/plain": [
       "<tensorflow.python.keras.callbacks.History at 0x18084581c70>"
      ]
     },
     "execution_count": 36,
     "metadata": {},
     "output_type": "execute_result"
    }
   ],
   "source": [
    "neural_network.fit(X_train, y_train, epochs=10, batch_size=32, validation_data=(X_test, y_test))"
   ]
  },
  {
   "cell_type": "code",
   "execution_count": 37,
   "metadata": {},
   "outputs": [],
   "source": [
    "y_pred = neural_network.predict(X_test)\n",
    "y_pred = np.argmax(y_pred, axis=1)"
   ]
  },
  {
   "cell_type": "code",
   "execution_count": 38,
   "metadata": {},
   "outputs": [
    {
     "data": {
      "text/plain": [
       "((30915,), (30915,))"
      ]
     },
     "execution_count": 38,
     "metadata": {},
     "output_type": "execute_result"
    }
   ],
   "source": [
    "y_test.shape, y_pred.shape"
   ]
  },
  {
   "cell_type": "code",
   "execution_count": 39,
   "metadata": {},
   "outputs": [
    {
     "name": "stdout",
     "output_type": "stream",
     "text": [
      "              precision    recall  f1-score   support\n",
      "\n",
      "           0       0.61      1.00      0.76     18991\n",
      "           1       0.00      0.00      0.00     11924\n",
      "\n",
      "    accuracy                           0.61     30915\n",
      "   macro avg       0.31      0.50      0.38     30915\n",
      "weighted avg       0.38      0.61      0.47     30915\n",
      " None\n"
     ]
    }
   ],
   "source": [
    "print(classification_report(y_test, y_pred), warnings.filterwarnings(\"ignore\"))"
   ]
  },
  {
   "cell_type": "markdown",
   "metadata": {},
   "source": [
    "<br>\n",
    "\n",
    "### Rede Neural FeedForward, com PCA e Undersampling para suavisar o Overfiting\n",
    "\n",
    "<br>"
   ]
  },
  {
   "cell_type": "code",
   "execution_count": 40,
   "metadata": {},
   "outputs": [
    {
     "name": "stdout",
     "output_type": "stream",
     "text": [
      "WARNING:tensorflow:Please add `keras.layers.InputLayer` instead of `keras.Input` to Sequential model. `keras.Input` is intended to be used by Functional model.\n"
     ]
    }
   ],
   "source": [
    "neural_network = tf.keras.models.Sequential([tf.keras.layers.Input(shape=X_train_u_pca.shape[1]),\n",
    "                                            tf.keras.layers.Dense(units=30, activation='relu'),\n",
    "                                            tf.keras.layers.Dropout(0.10),\n",
    "                                            tf.keras.layers.Dense(units=10),\n",
    "                                            tf.keras.layers.Dense(units=1, activation='sigmoid')])\n",
    "\n",
    "neural_network.compile(optimizer=\"SGD\",\n",
    "                      loss=\"binary_crossentropy\",\n",
    "                      metrics=['accuracy'])"
   ]
  },
  {
   "cell_type": "code",
   "execution_count": 41,
   "metadata": {
    "scrolled": false
   },
   "outputs": [
    {
     "name": "stdout",
     "output_type": "stream",
     "text": [
      "Epoch 1/10\n",
      "1759/1759 [==============================] - 2s 875us/step - loss: 0.7247 - accuracy: 0.6262 - val_loss: 0.6255 - val_accuracy: 0.6445\n",
      "Epoch 2/10\n",
      "1759/1759 [==============================] - 1s 815us/step - loss: 0.6302 - accuracy: 0.6413 - val_loss: 0.6167 - val_accuracy: 0.6484\n",
      "Epoch 3/10\n",
      "1759/1759 [==============================] - 1s 741us/step - loss: 0.6196 - accuracy: 0.6543 - val_loss: 0.6053 - val_accuracy: 0.6708\n",
      "Epoch 4/10\n",
      "1759/1759 [==============================] - 1s 763us/step - loss: 0.6125 - accuracy: 0.6608 - val_loss: 0.6115 - val_accuracy: 0.6710\n",
      "Epoch 5/10\n",
      "1759/1759 [==============================] - 1s 708us/step - loss: 0.6081 - accuracy: 0.6654 - val_loss: 0.5979 - val_accuracy: 0.6674\n",
      "Epoch 6/10\n",
      "1759/1759 [==============================] - 1s 716us/step - loss: 0.6039 - accuracy: 0.6700 - val_loss: 0.6024 - val_accuracy: 0.6725\n",
      "Epoch 7/10\n",
      "1759/1759 [==============================] - 1s 727us/step - loss: 0.6006 - accuracy: 0.6764 - val_loss: 0.6046 - val_accuracy: 0.6589\n",
      "Epoch 8/10\n",
      "1759/1759 [==============================] - 1s 747us/step - loss: 0.5958 - accuracy: 0.6786 - val_loss: 0.5832 - val_accuracy: 0.6844\n",
      "Epoch 9/10\n",
      "1759/1759 [==============================] - 1s 749us/step - loss: 0.5920 - accuracy: 0.6834 - val_loss: 0.5869 - val_accuracy: 0.6948\n",
      "Epoch 10/10\n",
      "1759/1759 [==============================] - 1s 805us/step - loss: 0.5879 - accuracy: 0.6872 - val_loss: 0.5764 - val_accuracy: 0.6877\n"
     ]
    },
    {
     "data": {
      "text/plain": [
       "<tensorflow.python.keras.callbacks.History at 0x180853c1b80>"
      ]
     },
     "execution_count": 41,
     "metadata": {},
     "output_type": "execute_result"
    }
   ],
   "source": [
    "neural_network.fit(X_train_u_pca, y_train_u_pca, epochs=10, batch_size=32, validation_data=(X_test_u_pca, y_test_u_pca))"
   ]
  },
  {
   "cell_type": "code",
   "execution_count": 42,
   "metadata": {},
   "outputs": [],
   "source": [
    "y_pred = neural_network.predict(X_test_u_pca)\n",
    "y_pred = np.argmax(y_pred, axis=1)"
   ]
  },
  {
   "cell_type": "code",
   "execution_count": 43,
   "metadata": {},
   "outputs": [
    {
     "data": {
      "text/plain": [
       "((24116,), (24116,))"
      ]
     },
     "execution_count": 43,
     "metadata": {},
     "output_type": "execute_result"
    }
   ],
   "source": [
    "y_test_u_pca.shape, y_pred.shape"
   ]
  },
  {
   "cell_type": "code",
   "execution_count": 44,
   "metadata": {},
   "outputs": [
    {
     "name": "stdout",
     "output_type": "stream",
     "text": [
      "              precision    recall  f1-score   support\n",
      "\n",
      "           0       0.50      1.00      0.67     12059\n",
      "           1       0.00      0.00      0.00     12057\n",
      "\n",
      "    accuracy                           0.50     24116\n",
      "   macro avg       0.25      0.50      0.33     24116\n",
      "weighted avg       0.25      0.50      0.33     24116\n",
      " None\n"
     ]
    }
   ],
   "source": [
    "print(classification_report(y_test_u_pca, y_pred), warnings.filterwarnings(\"ignore\"))"
   ]
  },
  {
   "cell_type": "markdown",
   "metadata": {},
   "source": [
    "<br>\n",
    "\n",
    "### 2ª Rede Neural MLP Classifier com Undersampling\n",
    "\n",
    "<br>"
   ]
  },
  {
   "cell_type": "code",
   "execution_count": 45,
   "metadata": {},
   "outputs": [],
   "source": [
    "# Undersampling\n",
    "under = NearMiss()\n",
    "\n",
    "X = df.drop('is_canceled',axis=1)\n",
    "y = df['is_canceled']\n",
    "X_under,y_under = under.fit_resample(X,y)\n",
    "\n",
    "X_train_u,X_test_u, y_train_u,y_test_u = train_test_split(X_under,y_under,test_size=0.3, random_state = 42) # split"
   ]
  },
  {
   "cell_type": "code",
   "execution_count": 46,
   "metadata": {},
   "outputs": [
    {
     "name": "stdout",
     "output_type": "stream",
     "text": [
      "\n",
      "A pontuação foi de:  1.0\n",
      "              precision    recall  f1-score   support\n",
      "\n",
      "           0       1.00      1.00      1.00     12059\n",
      "           1       1.00      1.00      1.00     12057\n",
      "\n",
      "    accuracy                           1.00     24116\n",
      "   macro avg       1.00      1.00      1.00     24116\n",
      "weighted avg       1.00      1.00      1.00     24116\n",
      "\n"
     ]
    }
   ],
   "source": [
    "from sklearn.neural_network import MLPClassifier\n",
    "from sklearn.datasets import fetch_california_housing\n",
    "\n",
    "model_mlp = MLPClassifier(hidden_layer_sizes= (64,64,64),activation=\"relu\" ,random_state=1, max_iter=2000).fit(X_train_u,y_train_u)\n",
    "\n",
    "y_pred_mpl = model_mlp.predict(X_test_u)\n",
    "\n",
    "print(\"\\nA pontuação foi de: \",(r2_score(list(y_test_u), list(y_pred_mpl))))\n",
    "print(classification_report(y_test_u, y_pred_mpl))\n",
    "\n",
    "#plt.figure(figsize = (10,6))\n",
    "#sns.scatterplot(y_test_u,y_pred_mpl)\n",
    "#plt.xlabel('Y Test')\n",
    "#plt.ylabel('Predicted Y')"
   ]
  },
  {
   "cell_type": "markdown",
   "metadata": {},
   "source": [
    "<br>\n",
    "\n",
    "### Rede Neural MLP Classifier, com PCA e Undersampling para suavisar o Overfiting\n",
    "\n",
    "### Melhor Modelo\n",
    "\n",
    "<br>"
   ]
  },
  {
   "cell_type": "code",
   "execution_count": 47,
   "metadata": {},
   "outputs": [
    {
     "name": "stdout",
     "output_type": "stream",
     "text": [
      "\n",
      "A pontuação foi do R2 foi de:  0.73\n",
      "\n",
      "\n",
      "              precision    recall  f1-score   support\n",
      "\n",
      "           0       0.94      0.93      0.93     12059\n",
      "           1       0.93      0.94      0.93     12057\n",
      "\n",
      "    accuracy                           0.93     24116\n",
      "   macro avg       0.93      0.93      0.93     24116\n",
      "weighted avg       0.93      0.93      0.93     24116\n",
      "\n"
     ]
    }
   ],
   "source": [
    "model_mlp_2 = MLPClassifier(hidden_layer_sizes= (64,64,64), activation=\"relu\", random_state=1, max_iter=2000).fit(X_train_u_pca,y_train_u_pca)\n",
    "\n",
    "y_pred_mpl = model_mlp_2.predict(X_test_u_pca)\n",
    "\n",
    "print(\"\\nA pontuação foi do R2 foi de: \",(round(r2_score(list(y_test_u_pca), list(y_pred_mpl)),2)))\n",
    "print('\\n')\n",
    "print(classification_report(y_test_u, y_pred_mpl))"
   ]
  },
  {
   "cell_type": "markdown",
   "metadata": {},
   "source": [
    "<br>\n",
    "\n",
    "### Auto Keras \n",
    "\n",
    "<br>"
   ]
  },
  {
   "cell_type": "code",
   "execution_count": 48,
   "metadata": {
    "scrolled": true
   },
   "outputs": [
    {
     "name": "stdout",
     "output_type": "stream",
     "text": [
      "Requirement already satisfied: autokeras in d:\\anaconda\\lib\\site-packages (1.0.14)\n",
      "Requirement already satisfied: packaging in d:\\anaconda\\lib\\site-packages (from autokeras) (20.9)\n",
      "Requirement already satisfied: tensorflow>=2.3.0 in d:\\anaconda\\lib\\site-packages (from autokeras) (2.5.0)\n",
      "Requirement already satisfied: keras-tuner>=1.0.2 in d:\\anaconda\\lib\\site-packages (from autokeras) (1.0.2)\n",
      "Requirement already satisfied: scikit-learn in d:\\anaconda\\lib\\site-packages (from autokeras) (0.24.1)\n",
      "Requirement already satisfied: pandas in d:\\anaconda\\lib\\site-packages (from autokeras) (1.2.4)\n",
      "Requirement already satisfied: tqdm in d:\\anaconda\\lib\\site-packages (from keras-tuner>=1.0.2->autokeras) (4.59.0)\n",
      "Requirement already satisfied: scipy in d:\\anaconda\\lib\\site-packages (from keras-tuner>=1.0.2->autokeras) (1.6.2)\n",
      "Requirement already satisfied: requests in d:\\anaconda\\lib\\site-packages (from keras-tuner>=1.0.2->autokeras) (2.25.1)\n",
      "Requirement already satisfied: future in d:\\anaconda\\lib\\site-packages (from keras-tuner>=1.0.2->autokeras) (0.18.2)\n",
      "Requirement already satisfied: numpy in d:\\anaconda\\lib\\site-packages (from keras-tuner>=1.0.2->autokeras) (1.19.5)\n",
      "Requirement already satisfied: colorama in d:\\anaconda\\lib\\site-packages (from keras-tuner>=1.0.2->autokeras) (0.4.4)\n",
      "Requirement already satisfied: tabulate in d:\\anaconda\\lib\\site-packages (from keras-tuner>=1.0.2->autokeras) (0.8.9)\n",
      "Requirement already satisfied: terminaltables in d:\\anaconda\\lib\\site-packages (from keras-tuner>=1.0.2->autokeras) (3.1.0)\n",
      "Requirement already satisfied: tensorflow-estimator<2.6.0,>=2.5.0rc0 in d:\\anaconda\\lib\\site-packages (from tensorflow>=2.3.0->autokeras) (2.5.0)\n",
      "Requirement already satisfied: keras-preprocessing~=1.1.2 in d:\\anaconda\\lib\\site-packages (from tensorflow>=2.3.0->autokeras) (1.1.2)\n",
      "Requirement already satisfied: wrapt~=1.12.1 in d:\\anaconda\\lib\\site-packages (from tensorflow>=2.3.0->autokeras) (1.12.1)\n",
      "Requirement already satisfied: tensorboard~=2.5 in d:\\anaconda\\lib\\site-packages (from tensorflow>=2.3.0->autokeras) (2.5.0)\n",
      "Requirement already satisfied: astunparse~=1.6.3 in d:\\anaconda\\lib\\site-packages (from tensorflow>=2.3.0->autokeras) (1.6.3)\n",
      "Requirement already satisfied: grpcio~=1.34.0 in d:\\anaconda\\lib\\site-packages (from tensorflow>=2.3.0->autokeras) (1.34.1)\n",
      "Requirement already satisfied: flatbuffers~=1.12.0 in d:\\anaconda\\lib\\site-packages (from tensorflow>=2.3.0->autokeras) (1.12)\n",
      "Requirement already satisfied: keras-nightly~=2.5.0.dev in d:\\anaconda\\lib\\site-packages (from tensorflow>=2.3.0->autokeras) (2.5.0.dev2021032900)\n",
      "Requirement already satisfied: h5py~=3.1.0 in d:\\anaconda\\lib\\site-packages (from tensorflow>=2.3.0->autokeras) (3.1.0)\n",
      "Requirement already satisfied: absl-py~=0.10 in d:\\anaconda\\lib\\site-packages (from tensorflow>=2.3.0->autokeras) (0.12.0)\n",
      "Requirement already satisfied: opt-einsum~=3.3.0 in d:\\anaconda\\lib\\site-packages (from tensorflow>=2.3.0->autokeras) (3.3.0)\n",
      "Requirement already satisfied: six~=1.15.0 in d:\\anaconda\\lib\\site-packages (from tensorflow>=2.3.0->autokeras) (1.15.0)\n",
      "Requirement already satisfied: gast==0.4.0 in d:\\anaconda\\lib\\site-packages (from tensorflow>=2.3.0->autokeras) (0.4.0)\n",
      "Requirement already satisfied: google-pasta~=0.2 in d:\\anaconda\\lib\\site-packages (from tensorflow>=2.3.0->autokeras) (0.2.0)\n",
      "Requirement already satisfied: protobuf>=3.9.2 in d:\\anaconda\\lib\\site-packages (from tensorflow>=2.3.0->autokeras) (3.17.2)\n",
      "Requirement already satisfied: typing-extensions~=3.7.4 in d:\\anaconda\\lib\\site-packages (from tensorflow>=2.3.0->autokeras) (3.7.4.3)\n",
      "Requirement already satisfied: wheel~=0.35 in d:\\anaconda\\lib\\site-packages (from tensorflow>=2.3.0->autokeras) (0.36.2)\n",
      "Requirement already satisfied: termcolor~=1.1.0 in d:\\anaconda\\lib\\site-packages (from tensorflow>=2.3.0->autokeras) (1.1.0)\n",
      "Requirement already satisfied: tensorboard-plugin-wit>=1.6.0 in d:\\anaconda\\lib\\site-packages (from tensorboard~=2.5->tensorflow>=2.3.0->autokeras) (1.8.0)\n",
      "Requirement already satisfied: werkzeug>=0.11.15 in d:\\anaconda\\lib\\site-packages (from tensorboard~=2.5->tensorflow>=2.3.0->autokeras) (1.0.1)\n",
      "Requirement already satisfied: google-auth<2,>=1.6.3 in d:\\anaconda\\lib\\site-packages (from tensorboard~=2.5->tensorflow>=2.3.0->autokeras) (1.30.1)\n",
      "Requirement already satisfied: setuptools>=41.0.0 in d:\\anaconda\\lib\\site-packages (from tensorboard~=2.5->tensorflow>=2.3.0->autokeras) (52.0.0.post20210125)\n",
      "Requirement already satisfied: markdown>=2.6.8 in d:\\anaconda\\lib\\site-packages (from tensorboard~=2.5->tensorflow>=2.3.0->autokeras) (3.3.4)\n",
      "Requirement already satisfied: tensorboard-data-server<0.7.0,>=0.6.0 in d:\\anaconda\\lib\\site-packages (from tensorboard~=2.5->tensorflow>=2.3.0->autokeras) (0.6.1)\n",
      "Requirement already satisfied: google-auth-oauthlib<0.5,>=0.4.1 in d:\\anaconda\\lib\\site-packages (from tensorboard~=2.5->tensorflow>=2.3.0->autokeras) (0.4.4)\n",
      "Requirement already satisfied: rsa<5,>=3.1.4 in d:\\anaconda\\lib\\site-packages (from google-auth<2,>=1.6.3->tensorboard~=2.5->tensorflow>=2.3.0->autokeras) (4.7.2)\n",
      "Requirement already satisfied: pyasn1-modules>=0.2.1 in d:\\anaconda\\lib\\site-packages (from google-auth<2,>=1.6.3->tensorboard~=2.5->tensorflow>=2.3.0->autokeras) (0.2.8)\n",
      "Requirement already satisfied: cachetools<5.0,>=2.0.0 in d:\\anaconda\\lib\\site-packages (from google-auth<2,>=1.6.3->tensorboard~=2.5->tensorflow>=2.3.0->autokeras) (4.2.2)\n",
      "Requirement already satisfied: requests-oauthlib>=0.7.0 in d:\\anaconda\\lib\\site-packages (from google-auth-oauthlib<0.5,>=0.4.1->tensorboard~=2.5->tensorflow>=2.3.0->autokeras) (1.3.0)\n",
      "Requirement already satisfied: pyasn1<0.5.0,>=0.4.6 in d:\\anaconda\\lib\\site-packages (from pyasn1-modules>=0.2.1->google-auth<2,>=1.6.3->tensorboard~=2.5->tensorflow>=2.3.0->autokeras) (0.4.8)\n",
      "Requirement already satisfied: certifi>=2017.4.17 in d:\\anaconda\\lib\\site-packages (from requests->keras-tuner>=1.0.2->autokeras) (2020.12.5)\n",
      "Requirement already satisfied: idna<3,>=2.5 in d:\\anaconda\\lib\\site-packages (from requests->keras-tuner>=1.0.2->autokeras) (2.10)\n",
      "Requirement already satisfied: urllib3<1.27,>=1.21.1 in d:\\anaconda\\lib\\site-packages (from requests->keras-tuner>=1.0.2->autokeras) (1.26.4)\n",
      "Requirement already satisfied: chardet<5,>=3.0.2 in d:\\anaconda\\lib\\site-packages (from requests->keras-tuner>=1.0.2->autokeras) (4.0.0)\n",
      "Requirement already satisfied: oauthlib>=3.0.0 in d:\\anaconda\\lib\\site-packages (from requests-oauthlib>=0.7.0->google-auth-oauthlib<0.5,>=0.4.1->tensorboard~=2.5->tensorflow>=2.3.0->autokeras) (3.1.1)\n",
      "Requirement already satisfied: pyparsing>=2.0.2 in d:\\anaconda\\lib\\site-packages (from packaging->autokeras) (2.4.7)\n",
      "Requirement already satisfied: pytz>=2017.3 in d:\\anaconda\\lib\\site-packages (from pandas->autokeras) (2021.1)\n",
      "Requirement already satisfied: python-dateutil>=2.7.3 in d:\\anaconda\\lib\\site-packages (from pandas->autokeras) (2.8.1)\n",
      "Requirement already satisfied: threadpoolctl>=2.0.0 in d:\\anaconda\\lib\\site-packages (from scikit-learn->autokeras) (2.1.0)\n",
      "Requirement already satisfied: joblib>=0.11 in d:\\anaconda\\lib\\site-packages (from scikit-learn->autokeras) (1.0.1)\n"
     ]
    }
   ],
   "source": [
    "!pip install autokeras"
   ]
  },
  {
   "cell_type": "code",
   "execution_count": 49,
   "metadata": {},
   "outputs": [],
   "source": [
    "import autokeras as ak"
   ]
  },
  {
   "cell_type": "code",
   "execution_count": 50,
   "metadata": {},
   "outputs": [
    {
     "name": "stdout",
     "output_type": "stream",
     "text": [
      "INFO:tensorflow:Reloading Oracle from existing project .\\structured_data_classifier\\oracle.json\n",
      "INFO:tensorflow:Reloading Tuner from .\\structured_data_classifier\\tuner0.json\n"
     ]
    }
   ],
   "source": [
    "callback = tf.keras.callbacks.EarlyStopping(monitor='accuracy', patience=6)\n",
    "\n",
    "model_auto = ak.StructuredDataClassifier(max_trials = 4, overwrite=False, seed=5) \n",
    "# Colocariamos mais Max Trials, porém o modelo não foi bem"
   ]
  },
  {
   "cell_type": "code",
   "execution_count": 51,
   "metadata": {},
   "outputs": [
    {
     "data": {
      "text/plain": [
       "(numpy.ndarray, pandas.core.frame.DataFrame)"
      ]
     },
     "execution_count": 51,
     "metadata": {},
     "output_type": "execute_result"
    }
   ],
   "source": [
    "type(X_train), type(X_train_u_pca)"
   ]
  },
  {
   "cell_type": "code",
   "execution_count": 52,
   "metadata": {
    "scrolled": false
   },
   "outputs": [
    {
     "name": "stdout",
     "output_type": "stream",
     "text": [
      "INFO:tensorflow:Oracle triggered exit\n",
      "Epoch 1/15\n",
      "3221/3221 [==============================] - 6s 2ms/step - loss: 0.0400 - accuracy: 0.9844\n",
      "Epoch 2/15\n",
      "3221/3221 [==============================] - 5s 1ms/step - loss: 7.5820e-04 - accuracy: 0.9999: 0s - loss: 7.8422e-04 - accuracy:  - ETA: 0s - loss: 7.5849e-04 - accuracy: 0.99\n",
      "Epoch 3/15\n",
      "3221/3221 [==============================] - 5s 2ms/step - loss: 5.1564e-04 - accuracy: 0.9999\n",
      "Epoch 4/15\n",
      "3221/3221 [==============================] - 5s 1ms/step - loss: 4.3333e-04 - accuracy: 0.9999: \n",
      "Epoch 5/15\n",
      "3221/3221 [==============================] - 5s 1ms/step - loss: 1.5394e-05 - accuracy: 1.0000: 1s - ETA: 0s - loss: 1.5939e-05 - accuracy\n",
      "Epoch 6/15\n",
      "3221/3221 [==============================] - 5s 1ms/step - loss: 6.1011e-05 - accuracy: 1.0000: 4s - loss: 3.4853e-0 - ETA: 3s - loss: 3.0450e-0 - ETA - ETA: 2s - loss: 1.1212e-04 - ac - ETA: 1s - loss: 9.8090e-05  - ETA: 1s - loss: 8.4870e-05 - accura - ETA: 1s - loss: 7.8928e-05 -  - ETA: 0s - loss: 7.1268e-05  - ETA: 0s - loss: 6.3886e-05 - accura\n",
      "Epoch 7/15\n",
      "3221/3221 [==============================] - 5s 1ms/step - loss: 1.9968e-06 - accuracy: 1.0000 ETA: 0s - loss: 2.1412e-06 - ac\n",
      "Epoch 8/15\n",
      "3221/3221 [==============================] - 5s 1ms/step - loss: 3.3436e-06 - accuracy: 1.0000: 4s - loss: 3.8885e-08 - accuracy: 1.00 - ETA: 4s - l - E\n",
      "Epoch 9/15\n",
      "3221/3221 [==============================] - 5s 1ms/step - loss: 1.6666e-04 - accuracy: 1.0000: 1s - loss: 1.4812e-04 - accuracy: 1.00 - ETA: 1s - loss: 1.456 - ETA: 1s - loss: 1.9077e-0 - ETA: 0s - loss: 1.9\n",
      "Epoch 10/15\n",
      "3221/3221 [==============================] - 5s 1ms/step - loss: 5.5001e-04 - accuracy: 0.9999: 0s - loss: 5.7024e-04 - accuracy\n",
      "Epoch 11/15\n",
      "3221/3221 [==============================] - 5s 2ms/step - loss: 2.4129e-05 - accuracy: 1.0000\n",
      "Epoch 12/15\n",
      "3221/3221 [==============================] - 5s 2ms/step - loss: 6.9741e-09 - accuracy: 1.0000TA: 0s - loss: 7.6107e-09 - accuracy: 1.00 - ETA: 0s - loss: 7.5280e-09 - accuracy:  - ETA: 0s - loss: 7.2771e-0\n",
      "Epoch 13/15\n",
      "3221/3221 [==============================] - 5s 1ms/step - loss: 2.7665e-09 - accuracy: 1.0000\n",
      "Epoch 14/15\n",
      "3221/3221 [==============================] - 5s 1ms/step - loss: 9.6626e-10 - accuracy: 1.0000\n",
      "Epoch 15/15\n",
      "3221/3221 [==============================] - 5s 1ms/step - loss: 4.9023e-10 - accuracy: 1.0000: 3s - loss: 5.4605e-1 - ETA: 3s - loss: 3.7996e-10 - accuracy: 1.00 - ETA: 3s - loss: 3.7270e-10 - accu - ETA: 0s - loss: 4.8770e-10 - ac\n",
      "INFO:tensorflow:Assets written to: .\\structured_data_classifier\\best_model\\assets\n"
     ]
    }
   ],
   "source": [
    "model_auto.fit(X,y, epochs=15, callbacks = [callback])"
   ]
  }
 ],
 "metadata": {
  "kernelspec": {
   "display_name": "Python 3",
   "language": "python",
   "name": "python3"
  },
  "language_info": {
   "codemirror_mode": {
    "name": "ipython",
    "version": 3
   },
   "file_extension": ".py",
   "mimetype": "text/x-python",
   "name": "python",
   "nbconvert_exporter": "python",
   "pygments_lexer": "ipython3",
   "version": "3.8.5"
  }
 },
 "nbformat": 4,
 "nbformat_minor": 5
}
